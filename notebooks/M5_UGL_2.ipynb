{
 "cells": [
  {
   "cell_type": "markdown",
   "id": "c2c398ec",
   "metadata": {},
   "source": [
    "# M5 Agentic AI - Market Research Team\n",
    "\n",
    "## 1. Introduction\n",
    "\n",
    "### 1.1. Lab Overview  \n",
    "\n",
    "In this lab, you will step into the role of a **technical AI lead at a fashion brand** preparing a summer sunglasses campaign. Your task is to design a **fully automated creative pipeline** that mirrors a real-world business scenario. Instead of handling each piece manually, you will guide a system that scans online sources for emerging fashion trends, matches those trends with sunglasses in the internal catalog, designs a campaign visual, generates a short marketing quote, and finally packages everything into an **executive-ready report**.  \n",
    "\n",
    "The goal is to experience how multiple agents, tools, and models can be orchestrated into a single, coherent workflow. By the end of this lab, you will have built a pipeline that feels less like a script of isolated steps and more like a small team working together to solve a creative challenge.  \n",
    "\n",
    "### 1.2. 🎯 Learning outcome\n",
    "\n",
    "By completing this lab, you will see how to move beyond single-turn interactions with a model and instead design **multi-agent pipelines** that coordinate planning, research, and creative generation. You will learn how to ground agent reasoning in external tools so that outputs are not just imaginative but also supported by real data. You will also experiment with reflection and packaging steps that enforce quality control and prepare results for an executive audience.  \n",
    "\n",
    "In short, this lab is about learning how to combine the **imagination of large language models** with the **discipline of structured workflows**, giving you a practical pattern for building autonomous systems that are both creative and reliable.  "
   ]
  },
  {
   "cell_type": "markdown",
   "id": "abc29617",
   "metadata": {},
   "source": [
    "## 2. Setup: Import libraries and load environment\n",
    "\n",
    "As in previous labs, you now import the required libraries, load environment variables, and set up helper utilities."
   ]
  },
  {
   "cell_type": "code",
   "execution_count": 1,
   "id": "0b0aa06a",
   "metadata": {
    "height": 540
   },
   "outputs": [],
   "source": [
    "# =========================\n",
    "# Imports\n",
    "# =========================\n",
    "\n",
    "# --- Standard library ---\n",
    "import base64\n",
    "import json\n",
    "import os\n",
    "import re\n",
    "from datetime import datetime\n",
    "from io import BytesIO\n",
    "\n",
    "# --- Third-party ---\n",
    "import requests\n",
    "import openai\n",
    "from PIL import Image\n",
    "from dotenv import load_dotenv\n",
    "from IPython.display import Markdown, display\n",
    "import aisuite\n",
    "\n",
    "# --- Local / project ---\n",
    "import tools\n",
    "import utils\n",
    "\n",
    "\n",
    "# =========================\n",
    "# Environment & Client\n",
    "# =========================\n",
    "load_dotenv()\n",
    "client = aisuite.Client()\n"
   ]
  },
  {
   "cell_type": "markdown",
   "id": "eb117835",
   "metadata": {},
   "source": [
    "## 3. Available Tools  \n",
    "\n",
    "Agentic pipelines only become effective when the model is given **explicit capabilities** beyond its base reasoning. Declaring these tools upfront makes the agent’s action space unambiguous, ensures that prompts naturally guide tool selection, and keeps orchestration and testing transparent through well-defined interfaces.  \n",
    "\n",
    "You will assemble a **marketing research team**, a group of specialized agents collaborating to design a summer sunglasses campaign. To empower them, we start by defining the tools that will ground their reasoning in real data.  \n",
    "\n",
    "The first tool is `tools.tavily_search_tool`, which performs live web searches to uncover evidence of current fashion trends. Try it now by running a simple query for *“trends in sunglasses fashion”*:  "
   ]
  },
  {
   "cell_type": "code",
   "execution_count": 2,
   "id": "263b395e",
   "metadata": {
    "height": 30
   },
   "outputs": [
    {
     "data": {
      "text/plain": [
       "[{'title': 'Top 10 Sunglasses Trends for Spring/Summer 2025 - YouTube',\n",
       "  'content': \"Top 10 Sunglasses Trends for Spring/Summer 2025 | Ultimate Guide from MM Design\\nMM Design\\n34900 subscribers\\n447 likes\\n23731 views\\n18 Mar 2025\\nJoin Maria on mmDesign as she explores the top 10 sunglasses trends for Spring/Summer 2025. From classic Aviators to futuristic frames, discover styles featured in major designer shows like Loewe, Louis Vuitton, and Dior. Learn which frames suit different face shapes and how to integrate these trends into your wardrobe. Don't miss this comprehensive guide to stay fashionable this season!\\n\\n00:00 Introduction to Sunglasses Trends 2025\\n00:40 Aviators: Timeless Cool\\n01:38 Rounded Frames: Playful and Artistic\\n02:31 Wayfarers: Classic Rebel\\n03:28 Tinted Lenses: Making a Statement\\n04:22 Wraparound Shields: Sporty and Futuristic\\n05:14 Rectangle Frames: Sleek Minimalism\\n06:17 Minimal Frames: Barely There Aesthetic\\n07:01 Cat Eye Sunglasses: Feline Power Move\\n07:48 Oversized Frames: Go Big or Go Home\\n09:05 Futuristic Frames: Fashion Frontier\\n\\nFeaturing Designers:\\nAlaia, Chloe, Miu Miu, Gucci, Dolce & Gabbana, Dres Van Noten, Prada, Alexander McQueen, David Koma, Dior, Erdem, Etro, Fendi, Ferragamo, JW Anderson, Kenzo, Loewe, Marni, Louis Vuitton, Moschino, Mugler, Saint Laurent, Troy Burch, Schiaparelli, Versace, Acne Studios, Stella McCartney, Balenziaga, Bottega Veneta, Balmain, Burberry, Celine, Courreges, Diesel, Elie Saab, Isabel Marant, Michael Kors, Nina Ricci, Off white, Valentino, Victoria Beckham, Zimmermann, Rabanne, Christopher Esber, Kiko Kostandinov, Simone Rocha, Roksanda. \\n\\n#fashiontrends #ss2025 #sunglassesfashion #runwayshow\\n51 comments\\n\",\n",
       "  'url': 'https://www.youtube.com/watch?v=31qagKh77Kc'},\n",
       " {'title': \"2025's Top 10 Sunglasses Trends: Chrome Tints & '90s Style - Byrdie\",\n",
       "  'content': \"+ Hair Styling # 2025's Top Sunglasses Trends to Try: Chrome Tints and '90s Silhouettes **Read on for 10 2025 sunglasses trends to try this spring and summer**, highlighting that there's plenty of ways to refresh your look, no matter your style. Sporty silhouettes are another standout sunglasses trend of the moment, with a major emphasis on designs that feel elevated and street style-ready. Colorful tinted lenses have gone through major stints of popularity over the decades, and 2025 is looking to be a new era for the recurrent sunglasses trend. The cat-eye sunglasses silhouette never goes out of style. * When Earlobes Aren’t Enough, Try Fall 2025’s Pierced Shoes Trend * This Wearable Shoe Trend Is What’s Missing From All of Your Fall ’Fits\",\n",
       "  'url': 'https://www.byrdie.com/2025-sunglasses-trends-11682002'},\n",
       " {'title': \"The Top Sunglasses Trends of 2025: Styles Everyone's Talking About\",\n",
       "  'content': 'The top trends in 2025 include oversized frames, futuristic shield sunglasses, transparent frames, retro-inspired designs, color-tinted lenses,',\n",
       "  'url': 'https://topfoxx.com/en-au/blogs/news/the-top-sunglasses-trends-of-2025-styles-everyone-s-talking-about?srsltid=AfmBOooS6qN-wYvoh0ltaYlve0clPAopt348F_STU1Buo7yNGUC7sr8R'},\n",
       " {'title': \"5 Key Sunglasses Trends You'll See Everywhere in Summer 2025\",\n",
       "  'content': '# 5 Key Sunglasses Trends You’ll See Everywhere in Summer 2025 Spring and summer’s biggest sunglasses trends are all about showing off your unique personality. In keeping with the big boho trend, Chloé and Miu Miu showed ’70s-style bohemian shades in their spring-summer shows, perfect for pairing with romantic dresses and vintage clogs; on the other end of the spectrum, Prada and Tory Burch sent futuristic, hyper-sporty sunglasses down the runway, making models look like they’d just left the gym. ## *Glamour*’s summer sunglasses trends wish list * **The Amazon Gem:** Vanlinker Retro Aviator Sunglasses, $16 * **The Boho Sunnies:** Steve Madden Davian Sunglasses, $35 ### Sojos Retro Aviator Sunglasses ### Vanlinker Retro Aviator Sunglasses 15 Best Sunglasses for Women, According to *Glamour* Editors & Fashion Experts',\n",
       "  'url': 'https://www.glamour.com/story/sunglass-trends'},\n",
       " {'title': '2025 eyewear trends: The best sunglasses to shop now',\n",
       "  'content': \"# This summer's 7 sunglasses trends to shop now ## How do I choose the right sunglasses for my face shape? Characterised by full cheeks, a rounded chin, and equal width and length, round faces benefit from angular frames such as rectangular, square, or cat-eye sunglasses. Bottom-heavy frames, aviators, or round sunglasses soften the forehead and add width to the lower part of the face. Oversized sunglasses, wraparound styles, and rectangular frames are perfect choices. Photo: Lacoste spring/summer 2025 ## White frame sunglasses ## Cat eye sunglasses ##### Runway sunglasses ##### Metal frame sunglasses Photo: Chanel spring/summer 2025 ##### Square-frame acetate and gold-tone sunglasses ##### Wayfarer sunglasses ## Oversized sunglasses ##### Square sunglasses ##### Sunglasses square shape ## Aviator sunglasses\",\n",
       "  'url': 'https://www.voguescandinavia.com/articles/best-eyewear-sunglasses-trends-shop-2025'}]"
      ]
     },
     "execution_count": 2,
     "metadata": {},
     "output_type": "execute_result"
    }
   ],
   "source": [
    "tools.tavily_search_tool('trends in sunglasses fashion')"
   ]
  },
  {
   "cell_type": "markdown",
   "id": "35c7bd11",
   "metadata": {},
   "source": [
    "The second tool is `tools.product_catalog_tool`, which returns the internal sunglasses catalog. Each entry includes details such as product name, ID, description, stock quantity, and price. This structured data will allow the agents to connect online fashion trends with actual items in stock:"
   ]
  },
  {
   "cell_type": "code",
   "execution_count": 3,
   "id": "4f47b5e3",
   "metadata": {
    "height": 30
   },
   "outputs": [
    {
     "data": {
      "text/plain": [
       "[{'name': 'Aviator',\n",
       "  'item_id': 'SG001',\n",
       "  'description': 'Originally designed for pilots, these teardrop-shaped lenses with thin metal frames offer timeless appeal. The large lenses provide excellent coverage while the lightweight construction ensures comfort during long wear.',\n",
       "  'quantity_in_stock': 23,\n",
       "  'price': 103},\n",
       " {'name': 'Wayfarer',\n",
       "  'item_id': 'SG002',\n",
       "  'description': 'Featuring thick, angular frames that make a statement, these sunglasses combine retro charm with modern edge. The rectangular lenses and sturdy acetate construction create a confident look.',\n",
       "  'quantity_in_stock': 6,\n",
       "  'price': 92},\n",
       " {'name': 'Mystique',\n",
       "  'item_id': 'SG003',\n",
       "  'description': 'Inspired by 1950s glamour, these frames sweep upward at the outer corners to create an elegant, feminine silhouette. The subtle curves and often embellished temples add sophistication to any outfit.',\n",
       "  'quantity_in_stock': 3,\n",
       "  'price': 88},\n",
       " {'name': 'Sport',\n",
       "  'item_id': 'SG004',\n",
       "  'description': 'Designed for active lifestyles, these wraparound sunglasses feature a single curved lens that provides maximum coverage and wind protection. The lightweight, flexible frames include rubber grips.',\n",
       "  'quantity_in_stock': 11,\n",
       "  'price': 144},\n",
       " {'name': 'Round',\n",
       "  'item_id': 'SG005',\n",
       "  'description': 'Circular lenses set in minimalist frames create a thoughtful, artistic appearance. These sunglasses evoke a scholarly or creative vibe while remaining effortlessly stylish.',\n",
       "  'quantity_in_stock': 10,\n",
       "  'price': 86}]"
      ]
     },
     "execution_count": 3,
     "metadata": {},
     "output_type": "execute_result"
    }
   ],
   "source": [
    "tools.product_catalog_tool()"
   ]
  },
  {
   "cell_type": "markdown",
   "id": "3d9ef8d6",
   "metadata": {},
   "source": [
    "With these tools in place, you’ve defined a clear action space and reliable data sources. In the next section, you’ll build the agents that use them to turn raw fashion signals into structured insights and campaign assets."
   ]
  },
  {
   "cell_type": "markdown",
   "id": "0e428402",
   "metadata": {},
   "source": [
    "## 4. Agent Definitions — Building Your Team\n",
    "\n",
    "Now that you have defined the tools, it’s time to put them to work. In this phase, you will assemble a **marketing research team**, a group of specialized agents that you direct with natural instructions.  \n",
    "\n",
    "Each agent relies on the tools you introduced earlier, and together they transform raw trend data into a polished campaign report.  We will define them one by one, introducing their role and showing the code that implements each.  "
   ]
  },
  {
   "cell_type": "markdown",
   "id": "06687cfb",
   "metadata": {},
   "source": [
    "### 4.1. Market Research Agent  \n",
    "\n",
    "With the **Market Research Agent**, you take the first step in building your campaign.  You ask it to scan the web with `tavily_search_tool` and uncover what’s trending in sunglasses fashion right now. Then you direct it to cross-check those signals against your internal catalog using `product_catalog_tool`, so you know which of your products fit the moment.  \n",
    "\n",
    "The agent hands back a concise brief: the top fashion insights it found, the products that align with them, and a short explanation of why those picks make sense for your summer push. This gives you a clear, data-driven foundation to shape the rest of the campaign.  \n",
    "\n",
    "You can now run the following cell to define the **Market Research Agent** in code.  "
   ]
  },
  {
   "cell_type": "code",
   "execution_count": 4,
   "id": "f90049b8",
   "metadata": {
    "height": 878
   },
   "outputs": [],
   "source": [
    "def market_research_agent(return_messages: bool = False):\n",
    "\n",
    "    utils.log_agent_title_html(\"Market Research Agent\", \"🕵️‍♂️\")\n",
    "\n",
    "    prompt_ = f\"\"\"\n",
    "You are a fashion market research agent tasked with preparing a trend analysis for a summer sunglasses campaign.\n",
    "\n",
    "Your goal:\n",
    "1. Explore current fashion trends related to sunglasses using web search.\n",
    "2. Review the internal product catalog to identify items that align with those trends.\n",
    "3. Recommend one or more products from the catalog that best match emerging trends.\n",
    "4. If needed, today date is {datetime.now().strftime(\"%Y-%m-%d\")}.\n",
    "\n",
    "You can call the following tools:\n",
    "- tavily_search_tool: to discover external web trends.\n",
    "- product_catalog_tool: to inspect the internal sunglasses catalog.\n",
    "\n",
    "Once your analysis is complete, summarize:\n",
    "- The top 2–3 trends you found.\n",
    "- The product(s) from the catalog that fit these trends.\n",
    "- A justification of why they are a good fit for the summer campaign.\n",
    "\"\"\"\n",
    "    messages = [{\"role\": \"user\", \"content\": prompt_}]\n",
    "    tools_ = tools.get_available_tools()\n",
    "\n",
    "    while True:\n",
    "        response = client.chat.completions.create(\n",
    "            model=\"openai:o4-mini\",\n",
    "            messages=messages,\n",
    "            tools=tools_,\n",
    "            tool_choice=\"auto\"\n",
    "        )\n",
    "\n",
    "        msg = response.choices[0].message\n",
    "\n",
    "        if msg.content:\n",
    "            utils.log_final_summary_html(msg.content)\n",
    "            return (msg.content, messages) if return_messages else msg.content\n",
    "\n",
    "        if msg.tool_calls:\n",
    "            for tool_call in msg.tool_calls:\n",
    "                utils.log_tool_call_html(tool_call.function.name, tool_call.function.arguments)\n",
    "                result = tools.handle_tool_call(tool_call)\n",
    "                utils.log_tool_result_html(result)\n",
    "\n",
    "                messages.append(msg)\n",
    "                messages.append(tools.create_tool_response_message(tool_call, result))\n",
    "        else:\n",
    "            utils.log_unexpected_html()\n",
    "            return (\"[⚠️ Unexpected: No tool_calls or content returned]\", messages) if return_messages else \"[⚠️ Unexpected: No tool_calls or content returned]\""
   ]
  },
  {
   "cell_type": "markdown",
   "id": "b0d17e23",
   "metadata": {},
   "source": [
    "Let’s try to get some advice from the **Market Research Agent** about our summer sunglasses campaign.  "
   ]
  },
  {
   "cell_type": "code",
   "execution_count": 5,
   "id": "1356fc89",
   "metadata": {
    "height": 30
   },
   "outputs": [
    {
     "data": {
      "text/html": [
       "\n",
       "      <div style=\"padding:1em;margin:1em 0;background-color:#f0f4f8;border-left:6px solid #1976D2;\">\n",
       "        <h2 style=\"margin:0;color:#0D47A1;font-family:'Segoe UI',sans-serif;\">\n",
       "          🕵️‍♂️ Market Research Agent\n",
       "        </h2>\n",
       "      </div>\n",
       "    "
      ],
      "text/plain": [
       "<IPython.core.display.HTML object>"
      ]
     },
     "metadata": {},
     "output_type": "display_data"
    },
    {
     "data": {
      "text/html": [
       "\n",
       "      <div style=\"border-left:4px solid #1976D2;padding:.8em;margin:1em 0;\n",
       "                  background-color:#e3f2fd;color:#0D47A1;font-family:'Segoe UI',sans-serif;\">\n",
       "        <div style=\"font-size:15px;font-weight:bold;margin-bottom:4px;\">\n",
       "          📞 <span style=\"color:#0B3D91;\">Tool Call:</span> <span style=\"color:#0B3D91;\">tavily_search_tool</span>\n",
       "        </div>\n",
       "        <code style=\"display:block;background:#e8f0fe;color:#1b1b1b;padding:6px;border-radius:4px;\n",
       "                     font-size:13px;white-space:pre-wrap;\">{&quot;query&quot;:&quot;2025 summer sunglasses trends&quot;,&quot;max_results&quot;:5,&quot;include_images&quot;:false}</code>\n",
       "      </div>\n",
       "    "
      ],
      "text/plain": [
       "<IPython.core.display.HTML object>"
      ]
     },
     "metadata": {},
     "output_type": "display_data"
    },
    {
     "data": {
      "text/html": [
       "\n",
       "      <div style=\"border-left:4px solid #558B2F;padding:.8em;margin:1em 0;\n",
       "                  background-color:#f1f8e9;color:#33691E;\">\n",
       "        <strong>✅ Tool Result:</strong>\n",
       "        <pre style=\"white-space:pre-wrap;font-size:13px;color:#2E7D32;\">[{&#x27;title&#x27;: &#x27;Top 10 Sunglasses Trends for Spring/Summer 2025 - YouTube&#x27;, &#x27;content&#x27;: &quot;Top 10 Sunglasses Trends for Spring/Summer 2025 | Ultimate Guide from MM Design\\nMM Design\\n34900 subscribers\\n447 likes\\n23731 views\\n18 Mar 2025\\nJoin Maria on mmDesign as she explores the top 10 sunglasses trends for Spring/Summer 2025. From classic Aviators to futuristic frames, discover styles featured in major designer shows like Loewe, Louis Vuitton, and Dior. Learn which frames suit different face shapes and how to integrate these trends into your wardrobe. Don&#x27;t miss this comprehensive guide to stay fashionable this season!\\n\\n00:00 Introduction to Sunglasses Trends 2025\\n00:40 Aviators: Timeless Cool\\n01:38 Rounded Frames: Playful and Artistic\\n02:31 Wayfarers: Classic Rebel\\n03:28 Tinted Lenses: Making a Statement\\n04:22 Wraparound Shields: Sporty and Futuristic\\n05:14 Rectangle Frames: Sleek Minimalism\\n06:17 Minimal Frames: Barely There Aesthetic\\n07:01 Cat Eye Sunglasses: Feline Power Move\\n07:48 Oversized Frames: Go Big or Go Home\\n09:05 Futuristic Frames: Fashion Frontier\\n\\nFeaturing Designers:\\nAlaia, Chloe, Miu Miu, Gucci, Dolce &amp; Gabbana, Dres Van Noten, Prada, Alexander McQueen, David Koma, Dior, Erdem, Etro, Fendi, Ferragamo, JW Anderson, Kenzo, Loewe, Marni, Louis Vuitton, Moschino, Mugler, Saint Laurent, Troy Burch, Schiaparelli, Versace, Acne Studios, Stella McCartney, Balenziaga, Bottega Veneta, Balmain, Burberry, Celine, Courreges, Diesel, Elie Saab, Isabel Marant, Michael Kors, Nina Ricci, Off white, Valentino, Victoria Beckham, Zimmermann, Rabanne, Christopher Esber, Kiko Kostandinov, Simone Rocha, Roksanda. \\n\\n#fashiontrends #ss2025 #sunglassesfashion #runwayshow\\n51 comments\\n&quot;, &#x27;url&#x27;: &#x27;https://www.youtube.com/watch?v=31qagKh77Kc&#x27;}, {&#x27;title&#x27;: &#x27;2025 eyewear trends: The best sunglasses to shop now&#x27;, &#x27;content&#x27;: &quot;# This summer&#x27;s 7 sunglasses trends to shop now ## How do I choose the right sunglasses for my face shape? Characterised by full cheeks, a rounded chin, and equal width and length, round faces benefit from angular frames such as rectangular, square, or cat-eye sunglasses. Bottom-heavy frames, aviators, or round sunglasses soften the forehead and add width to the lower part of the face. Oversized sunglasses, wraparound styles, and rectangular frames are perfect choices. Photo: Lacoste spring/summer 2025 ## White frame sunglasses ## Cat eye sunglasses ##### Runway sunglasses ##### Metal frame sunglasses Photo: Chanel spring/summer 2025 ##### Square-frame acetate and gold-tone sunglasses ##### Wayfarer sunglasses ## Oversized sunglasses ##### Square sunglasses ##### Sunglasses square shape ## Aviator sunglasses&quot;, &#x27;url&#x27;: &#x27;https://www.voguescandinavia.com/articles/best-eyewear-sunglasses-trends-shop-2025&#x27;}, {&#x27;title&#x27;: &quot;The Top Sunglasses Trends of 2025: Styles Everyone&#x27;s Talking About&quot;, &#x27;content&#x27;: &#x27;The top trends in 2025 include oversized frames, futuristic shield sunglasses, transparent frames, retro-inspired designs, color-tinted lenses,&#x27;, &#x27;url&#x27;: &#x27;https://topfoxx.com/blogs/news/the-top-sunglasses-trends-of-2025-styles-everyone-s-talking-about?srsltid=AfmBOoovEmFnXy3rNk2uOIde3zM20xPxo7SbPKf54QD8Nt6XO_p7MNsy&#x27;}, {&#x27;title&#x27;: &#x27;Top 18 Sunglasses Worn by Celebrities in 2025 - Kraywoods&#x27;, &#x27;content&#x27;: &quot;Let&#x27;s take a closer look at one of the trends of 2025: Wayfarer sunglasses. Identical to the clubmaster yet slightly different, the wayfarer shape is&quot;, &#x27;url&#x27;: &#x27;https://www.kraywoods.com/blogs/our-stories/top-celebrity-sunglasses?srsltid=AfmBOopgbfoPFjWUqO4poA3IZXWy57Jp9b-fDU9O1rly-a4heEIMLUYF&#x27;}, {&#x27;title&#x27;: &#x27;Sunglasses Trends and Styles for Autumn/Winter 2025&#x27;, &#x27;content&#x27;: &#x27;The best shopping picks and trends in sunglasses, compiled by our editors to help you create the perfect outfit for any occasion. * ## I Low-Key Wear These $30 Sunglasses More Than My Luxury Pairs—19 Styles I\\&#x27;m Eyeing Next * ## 7 Sunglasses Trends Every Fashion Person Will Be Wearing This Summer * ## This Sunglasses Trend Is Set to Be Huge in 2025 * ## This Chic Eyewear Trend Will Help You Get &quot;Summer in the Hamptons&quot; Style * ## I\\&#x27;m an Accessory Expert—6 Trends I Can\\&#x27;t Wait to Get My Hands on This Summer * ## I\\&#x27;m Calling It—These French Sunglasses Are Destined to Go Viral * ## The &quot;Dated&quot; Sunglasses Trend That Destined to Be Everywhere Again&#x27;, &#x27;url&#x27;: &#x27;https://www.whowhatwear.com/tag/sunglasses&#x27;}]</pre>\n",
       "      </div>\n",
       "    "
      ],
      "text/plain": [
       "<IPython.core.display.HTML object>"
      ]
     },
     "metadata": {},
     "output_type": "display_data"
    },
    {
     "data": {
      "text/html": [
       "\n",
       "      <div style=\"border-left:4px solid #1976D2;padding:.8em;margin:1em 0;\n",
       "                  background-color:#e3f2fd;color:#0D47A1;font-family:'Segoe UI',sans-serif;\">\n",
       "        <div style=\"font-size:15px;font-weight:bold;margin-bottom:4px;\">\n",
       "          📞 <span style=\"color:#0B3D91;\">Tool Call:</span> <span style=\"color:#0B3D91;\">product_catalog_tool</span>\n",
       "        </div>\n",
       "        <code style=\"display:block;background:#e8f0fe;color:#1b1b1b;padding:6px;border-radius:4px;\n",
       "                     font-size:13px;white-space:pre-wrap;\">{&quot;max_items&quot;:10}</code>\n",
       "      </div>\n",
       "    "
      ],
      "text/plain": [
       "<IPython.core.display.HTML object>"
      ]
     },
     "metadata": {},
     "output_type": "display_data"
    },
    {
     "data": {
      "text/html": [
       "\n",
       "      <div style=\"border-left:4px solid #558B2F;padding:.8em;margin:1em 0;\n",
       "                  background-color:#f1f8e9;color:#33691E;\">\n",
       "        <strong>✅ Tool Result:</strong>\n",
       "        <pre style=\"white-space:pre-wrap;font-size:13px;color:#2E7D32;\">[{&#x27;name&#x27;: &#x27;Aviator&#x27;, &#x27;item_id&#x27;: &#x27;SG001&#x27;, &#x27;description&#x27;: &#x27;Originally designed for pilots, these teardrop-shaped lenses with thin metal frames offer timeless appeal. The large lenses provide excellent coverage while the lightweight construction ensures comfort during long wear.&#x27;, &#x27;quantity_in_stock&#x27;: 23, &#x27;price&#x27;: 103}, {&#x27;name&#x27;: &#x27;Wayfarer&#x27;, &#x27;item_id&#x27;: &#x27;SG002&#x27;, &#x27;description&#x27;: &#x27;Featuring thick, angular frames that make a statement, these sunglasses combine retro charm with modern edge. The rectangular lenses and sturdy acetate construction create a confident look.&#x27;, &#x27;quantity_in_stock&#x27;: 6, &#x27;price&#x27;: 92}, {&#x27;name&#x27;: &#x27;Mystique&#x27;, &#x27;item_id&#x27;: &#x27;SG003&#x27;, &#x27;description&#x27;: &#x27;Inspired by 1950s glamour, these frames sweep upward at the outer corners to create an elegant, feminine silhouette. The subtle curves and often embellished temples add sophistication to any outfit.&#x27;, &#x27;quantity_in_stock&#x27;: 3, &#x27;price&#x27;: 88}, {&#x27;name&#x27;: &#x27;Sport&#x27;, &#x27;item_id&#x27;: &#x27;SG004&#x27;, &#x27;description&#x27;: &#x27;Designed for active lifestyles, these wraparound sunglasses feature a single curved lens that provides maximum coverage and wind protection. The lightweight, flexible frames include rubber grips.&#x27;, &#x27;quantity_in_stock&#x27;: 11, &#x27;price&#x27;: 144}, {&#x27;name&#x27;: &#x27;Round&#x27;, &#x27;item_id&#x27;: &#x27;SG005&#x27;, &#x27;description&#x27;: &#x27;Circular lenses set in minimalist frames create a thoughtful, artistic appearance. These sunglasses evoke a scholarly or creative vibe while remaining effortlessly stylish.&#x27;, &#x27;quantity_in_stock&#x27;: 10, &#x27;price&#x27;: 86}]</pre>\n",
       "      </div>\n",
       "    "
      ],
      "text/plain": [
       "<IPython.core.display.HTML object>"
      ]
     },
     "metadata": {},
     "output_type": "display_data"
    },
    {
     "data": {
      "text/html": [
       "\n",
       "      <div style=\"border-left:4px solid #2E7D32;padding:1em;margin:1em 0;\n",
       "                  background-color:#e8f5e9;color:#1B5E20;\">\n",
       "        <strong>✅ Final Summary:</strong>\n",
       "        <pre style=\"white-space:pre-wrap;font-size:13px;color:#1B5E20;\">Here’s the Summer 2025 sunglasses trend analysis and product recommendations:\n",
       "\n",
       "1. Top Trends for Summer 2025  \n",
       "   • Wraparound Shields / Sporty Futuristic  \n",
       "     – Sleek, single-lens frames that offer full coverage and a forward-looking, “techwear” vibe. Seen across runway shows as both functional performance wear and fashion statements.  \n",
       "   • Cat-Eye &amp; Oversized Retro  \n",
       "     – Dramatic upswept corners and larger silhouettes channel vintage glamour with a modern edge. Popularized by luxe designers and street-style influencers alike.  \n",
       "   • Minimalist / Rounded Frames  \n",
       "     – Thin, pared-back frames with circular lenses for an artistic, understated look. Appeals to the “quiet luxury” and “barely there” aesthetic.\n",
       "\n",
       "2. Matching Products from Internal Catalog  \n",
       "   • SG004 “Sport”  \n",
       "     – Wraparound, single-lens design with rubber grips and lightweight, flexible frames.  \n",
       "     – Aligns perfectly with the sporty-futuristic trend and offers excellent UV and wind protection for active summer lifestyles.  \n",
       "   • SG003 “Mystique”  \n",
       "     – Cat-eye silhouette with subtle curves and embellished temples.  \n",
       "     – Taps into the retro-glam trend, flattering a wide range of face shapes and adding a touch of elegance to summer wardrobes.  \n",
       "   • SG005 “Round”  \n",
       "     – Simple, circular lenses in minimalist metal frames.  \n",
       "     – Embodies the “barely there” aesthetic—versatile for both men’s and women’s styling and in line with the minimalist trend.\n",
       "\n",
       "3. Why These Are a Good Fit for the Campaign  \n",
       "   – They cover the key directional looks—sporty/futuristic, retro-glam, and minimalist—allowing us to target varied customer segments.  \n",
       "   – All three styles are well-stocked (11 Sport, 3 Mystique, 10 Round), ready to support both online and in-store promotions.  \n",
       "   – Each design balances trend appeal with broad consumer wearability, driving both immediate summer sales and long-term brand loyalty.</pre>\n",
       "      </div>\n",
       "    "
      ],
      "text/plain": [
       "<IPython.core.display.HTML object>"
      ]
     },
     "metadata": {},
     "output_type": "display_data"
    }
   ],
   "source": [
    "market_research_result = market_research_agent()"
   ]
  },
  {
   "cell_type": "markdown",
   "id": "b42fe5aa",
   "metadata": {},
   "source": [
    "Next, you’ll turn this brief into a visual concept with the Graphic Designer Agent."
   ]
  },
  {
   "cell_type": "markdown",
   "id": "756f174b",
   "metadata": {},
   "source": [
    "### 4.2. Graphic Designer Agent  \n",
    "\n",
    "With the **Graphic Designer Agent**, you move from analysis to creativity.  \n",
    "You take the brief from your Market Research Agent and ask this one to translate it into a visual concept.  \n",
    "Because `aisuite` does not yet support direct image generation (like DALL·E), you guide the process in two stages:  \n",
    "\n",
    "1. First, the agent uses `aisuite` with an OpenAI text model (`o4-mini`) to craft a vivid **prompt** and a short, engaging **caption**.  \n",
    "2. Then, the prompt is sent to OpenAI’s `dall-e-3` API to generate the **campaign image** itself.  \n",
    "\n",
    "The result gives you everything you need to move forward: the generated image (saved locally for reuse), the exact prompt that produced it (useful for iteration), and a polished caption for campaign storytelling.  \n",
    "\n",
    "<div style=\"border:1px solid #fca5a5; border-left:6px solid #ef4444; background:#fee2e2; border-radius:6px; padding:12px 14px; color:#111827; font-family:system-ui,-apple-system,Segoe UI,Roboto,Ubuntu,Cantarell,Noto Sans,sans-serif;\">\n",
    "  <strong>Note:</strong> At this point, <code>aisuite</code> does <strong>not support direct image generation</strong>.  \n",
    "  That’s why you combine its text-based output (prompt + caption) with OpenAI’s <code>dall-e-3</code> to produce the final campaign visual.\n",
    "</div>  \n",
    "\n",
    "You can now run the following cell to define the **Graphic Designer Agent** in code.  "
   ]
  },
  {
   "cell_type": "code",
   "execution_count": 6,
   "id": "9ff47874",
   "metadata": {
    "height": 1609
   },
   "outputs": [],
   "source": [
    "def graphic_designer_agent(trend_insights: str, caption_style: str = \"short punchy\", size: str = \"1024x1024\") -> dict:\n",
    "\n",
    "    \"\"\"\n",
    "    Uses aisuite to generate a marketing prompt/caption and OpenAI (directly) to generate the image.\n",
    "\n",
    "    Args:\n",
    "        trend_insights (str): Trend summary from the researcher agent.\n",
    "        caption_style (str): Optional style hint for caption.\n",
    "        size (str): Image resolution (e.g., '1024x1024').\n",
    "\n",
    "    Returns:\n",
    "        dict: A dictionary with image_url, prompt, and caption.\n",
    "    \"\"\"\n",
    "\n",
    "    utils.log_agent_title_html(\"Graphic Designer Agent\", \"🎨\")\n",
    "\n",
    "    # Step 1: Generate prompt and caption using aisuite\n",
    "    system_message = (\n",
    "        \"You are a visual marketing assistant. Based on the input trend insights, \"\n",
    "        \"write a creative and visual prompt for an AI image generation model, and also a short caption.\"\n",
    "    )\n",
    "\n",
    "    user_prompt = f\"\"\"\n",
    "Trend insights:\n",
    "{trend_insights}\n",
    "\n",
    "Please output:\n",
    "1. A vivid, descriptive prompt to guide image generation.\n",
    "2. A marketing caption in style: {caption_style}.\n",
    "\n",
    "Respond in this format:\n",
    "{{\"prompt\": \"...\", \"caption\": \"...\"}}\n",
    "\"\"\"\n",
    "\n",
    "    chat_response = client.chat.completions.create(\n",
    "        model=\"openai:o4-mini\",\n",
    "        messages=[\n",
    "            {\"role\": \"system\", \"content\": system_message},\n",
    "            {\"role\": \"user\", \"content\": user_prompt}\n",
    "        ]\n",
    "    )\n",
    "\n",
    "    content = chat_response.choices[0].message.content.strip()\n",
    "    match = re.search(r'\\{.*\\}', content, re.DOTALL)\n",
    "    parsed = json.loads(match.group(0)) if match else {\"error\": \"No JSON returned\", \"raw\": content}\n",
    "\n",
    "    prompt = parsed[\"prompt\"]\n",
    "    caption = parsed[\"caption\"]\n",
    "\n",
    "    # Step 2: Generate image directly using openai-python\n",
    "    openai_client = openai.OpenAI()\n",
    "\n",
    "    image_response = openai_client.images.generate(\n",
    "        model=\"dall-e-3\",\n",
    "        prompt=prompt,\n",
    "        size=size,\n",
    "        quality=\"standard\",\n",
    "        n=1,\n",
    "        response_format=\"url\"\n",
    "    )\n",
    "\n",
    "    image_url = image_response.data[0].url\n",
    "\n",
    "    # Save image locally\n",
    "    img_bytes = requests.get(image_url).content\n",
    "    img = Image.open(BytesIO(img_bytes))\n",
    "\n",
    "    filename = os.path.basename(image_url.split(\"?\")[0])\n",
    "    image_path = filename\n",
    "    img.save(image_path)\n",
    "\n",
    "\n",
    "    # Log summary with local image\n",
    "    utils.log_final_summary_html(f\"\"\"\n",
    "        <h3>Generated Image and Caption</h3>\n",
    "\n",
    "        <p><strong>Image Path:</strong> <code>{image_path}</code></p>\n",
    "\n",
    "        <p><strong>Generated Image:</strong></p>\n",
    "        <img src=\"{image_path}\" alt=\"Generated Image\" style=\"max-width: 100%; height: auto; border: 1px solid #ccc; border-radius: 8px; margin-top: 10px; margin-bottom: 10px;\">\n",
    "\n",
    "        <p><strong>Prompt:</strong> {prompt}</p>\n",
    "    \"\"\")\n",
    "\n",
    "\n",
    "    return {\n",
    "        \"image_url\": image_url,\n",
    "        \"prompt\": prompt,\n",
    "        \"caption\": caption,\n",
    "        \"image_path\": image_path  \n",
    "    }\n",
    "\n"
   ]
  },
  {
   "cell_type": "markdown",
   "id": "264c22ad",
   "metadata": {},
   "source": [
    "Now let’s run the `graphic_designer_agent` to generate a campaign image, using the trend insights provided by the **Market Research Agent**."
   ]
  },
  {
   "cell_type": "code",
   "execution_count": 7,
   "id": "0c9fa3b1",
   "metadata": {
    "height": 81
   },
   "outputs": [
    {
     "data": {
      "text/html": [
       "\n",
       "      <div style=\"padding:1em;margin:1em 0;background-color:#f0f4f8;border-left:6px solid #1976D2;\">\n",
       "        <h2 style=\"margin:0;color:#0D47A1;font-family:'Segoe UI',sans-serif;\">\n",
       "          🎨 Graphic Designer Agent\n",
       "        </h2>\n",
       "      </div>\n",
       "    "
      ],
      "text/plain": [
       "<IPython.core.display.HTML object>"
      ]
     },
     "metadata": {},
     "output_type": "display_data"
    },
    {
     "data": {
      "text/html": [
       "\n",
       "      <div style=\"border-left:4px solid #2E7D32;padding:1em;margin:1em 0;\n",
       "                  background-color:#e8f5e9;color:#1B5E20;\">\n",
       "        <strong>✅ Final Summary:</strong>\n",
       "        <pre style=\"white-space:pre-wrap;font-size:13px;color:#1B5E20;\">&lt;h3&gt;Generated Image and Caption&lt;/h3&gt;\n",
       "\n",
       "        &lt;p&gt;&lt;strong&gt;Image Path:&lt;/strong&gt; &lt;code&gt;img-55NDgxrX3AFhHCqpVnjhosZ9.png&lt;/code&gt;&lt;/p&gt;\n",
       "\n",
       "        &lt;p&gt;&lt;strong&gt;Generated Image:&lt;/strong&gt;&lt;/p&gt;\n",
       "        &lt;img src=&quot;img-55NDgxrX3AFhHCqpVnjhosZ9.png&quot; alt=&quot;Generated Image&quot; style=&quot;max-width: 100%; height: auto; border: 1px solid #ccc; border-radius: 8px; margin-top: 10px; margin-bottom: 10px;&quot;&gt;\n",
       "\n",
       "        &lt;p&gt;&lt;strong&gt;Prompt:&lt;/strong&gt; A vibrant summer editorial triptych under golden sunlight: Left panel features an athletic model in motion at an urban skate park, wearing SG004 “Sport” wraparound shield sunglasses—sleek single-lens, rubber grips, metallic lightweight frame—wind-blown hair and dynamic graffiti backdrop. Center panel shows a poised figure on a sunlit seaside boardwalk in a flowing dress, donning SG003 “Mystique” oversized cat-eye shades with embellished gold temples, pastel sky and softly crashing waves behind. Right panel is a minimalist portrait against a crisp white architectural wall, a neutral-toned linen shirt and SG005 “Round” thin metal circular frames catching a soft glow. High-contrast lighting, bold summer colors, modern fashion editorial style.&lt;/p&gt;</pre>\n",
       "      </div>\n",
       "    "
      ],
      "text/plain": [
       "<IPython.core.display.HTML object>"
      ]
     },
     "metadata": {},
     "output_type": "display_data"
    }
   ],
   "source": [
    "graphic_designer_agent_result = graphic_designer_agent(\n",
    "    trend_insights=market_research_result,\n",
    ")\n"
   ]
  },
  {
   "cell_type": "markdown",
   "id": "c70c5088",
   "metadata": {},
   "source": [
    "With a visual in hand, you’ll craft the campaign voice using the Copywriter Agent."
   ]
  },
  {
   "cell_type": "markdown",
   "id": "92fb4dba",
   "metadata": {},
   "source": [
    "### 4.3. Copywriter Agent  \n",
    "\n",
    "Once the **Market Research Agent** and **Graphic Designer Agent** have done their work, you now turn to the **Copywriter Agent**. With both the campaign image and the trend summary in hand, you ask this agent to create the voice of your campaign.  \n",
    "\n",
    "It takes the visual and the analysis together as multimodal input and crafts a short, elegant marketing quote that captures the essence of the message. Along with the quote, it gives you a clear justification—why the phrase fits the image and how it ties back to the trends.  \n",
    "\n",
    "This way, you don’t just get a catchy line, you also get the reasoning behind it, making it easier to defend and refine in front of stakeholders.  \n",
    "\n"
   ]
  },
  {
   "cell_type": "code",
   "execution_count": 8,
   "id": "1027a46e",
   "metadata": {
    "height": 1405
   },
   "outputs": [],
   "source": [
    "def copywriter_agent(image_path: str, trend_summary: str, model: str = \"openai:o4-mini\") -> dict:\n",
    "\n",
    "    \"\"\"\n",
    "    Uses aisuite (OpenAI only) to send an image and a trend summary and return a campaign quote.\n",
    "\n",
    "    Args:\n",
    "        image_path (str): URL of the image to be analyzed.\n",
    "        trend_summary (str): Text from the researcher agent.\n",
    "        model (str): OpenAI model (e.g., openai:o4-mini, openai:gpt-4o)\n",
    "\n",
    "    Returns:\n",
    "        dict: {\n",
    "            \"quote\": \"...\",\n",
    "            \"justification\": \"...\",\n",
    "            \"image_path\": \"...\"\n",
    "        }\n",
    "    \"\"\"\n",
    "\n",
    "    utils.log_agent_title_html(\"Copywriter Agent\", \"✍️\")\n",
    "\n",
    "    # Step 1: Load local image and encode as base64\n",
    "    with open(image_path, \"rb\") as f:\n",
    "        img_bytes = f.read()\n",
    "\n",
    "    b64_img = base64.b64encode(img_bytes).decode(\"utf-8\")\n",
    "\n",
    "    # Step 2: Build OpenAI-compliant multimodal message\n",
    "    messages = [\n",
    "        {\n",
    "            \"role\": \"system\",\n",
    "            \"content\": \"You are a copywriter that creates elegant campaign quotes based on an image and a marketing trend summary.\"\n",
    "        },\n",
    "        {\n",
    "            \"role\": \"user\",\n",
    "            \"content\": [\n",
    "                {\n",
    "                    \"type\": \"image_url\",\n",
    "                    \"image_url\": {\n",
    "                        \"url\": f\"data:image/png;base64,{b64_img}\",\n",
    "                        \"detail\": \"auto\"\n",
    "                    }\n",
    "                },\n",
    "                {\n",
    "                    \"type\": \"text\",\n",
    "                    \"text\": f\"\"\"\n",
    "Here is a visual marketing image and a trend analysis:\n",
    "\n",
    "Trend summary:\n",
    "\\\"\\\"\\\"{trend_summary}\\\"\\\"\\\"\n",
    "\n",
    "Please return a JSON object like:\n",
    "{{\n",
    "  \"quote\": \"A short, elegant campaign phrase (max 12 words)\",\n",
    "  \"justification\": \"Why this quote matches the image and trend\"\n",
    "}}\"\"\"\n",
    "                }\n",
    "            ]\n",
    "        }\n",
    "    ]\n",
    "\n",
    "    # Step 3: Send request via aisuite\n",
    "    response = client.chat.completions.create(\n",
    "        model=model,\n",
    "        messages=messages,\n",
    "    )\n",
    "\n",
    "    # Step 4: Parse JSON response\n",
    "    content = response.choices[0].message.content.strip()\n",
    "\n",
    "    utils.log_final_summary_html(content)\n",
    "\n",
    "    try:\n",
    "        match = re.search(r'\\{.*\\}', content, re.DOTALL)\n",
    "        parsed = json.loads(match.group(0)) if match else {\"error\": \"No valid JSON returned\"}\n",
    "    except Exception as e:\n",
    "        parsed = {\"error\": f\"Failed to parse: {e}\", \"raw\": content}\n",
    "\n",
    "\n",
    "    parsed[\"image_path\"] = image_path\n",
    "    return parsed\n"
   ]
  },
  {
   "cell_type": "markdown",
   "id": "41a91766",
   "metadata": {},
   "source": [
    "Next, let’s call the Copywriter Agent to generate a short campaign quote based on the marketing image and the trend insights produced earlier."
   ]
  },
  {
   "cell_type": "code",
   "execution_count": 9,
   "id": "e3328999",
   "metadata": {
    "height": 81
   },
   "outputs": [
    {
     "data": {
      "text/html": [
       "\n",
       "      <div style=\"padding:1em;margin:1em 0;background-color:#f0f4f8;border-left:6px solid #1976D2;\">\n",
       "        <h2 style=\"margin:0;color:#0D47A1;font-family:'Segoe UI',sans-serif;\">\n",
       "          ✍️ Copywriter Agent\n",
       "        </h2>\n",
       "      </div>\n",
       "    "
      ],
      "text/plain": [
       "<IPython.core.display.HTML object>"
      ]
     },
     "metadata": {},
     "output_type": "display_data"
    },
    {
     "data": {
      "text/html": [
       "\n",
       "      <div style=\"border-left:4px solid #2E7D32;padding:1em;margin:1em 0;\n",
       "                  background-color:#e8f5e9;color:#1B5E20;\">\n",
       "        <strong>✅ Final Summary:</strong>\n",
       "        <pre style=\"white-space:pre-wrap;font-size:13px;color:#1B5E20;\">{\n",
       "  &quot;quote&quot;: &quot;From sunrise runs to sunset soirées—discover your perfect summer shades&quot;,\n",
       "  &quot;justification&quot;: &quot;This phrase evokes the dynamic transition from sporty morning activities to glamorous evening events, reflecting the image’s trio of wraparound, cat-eye, and minimalist frames and aligning with Summer 2025’s key sunglasses trends.&quot;\n",
       "}</pre>\n",
       "      </div>\n",
       "    "
      ],
      "text/plain": [
       "<IPython.core.display.HTML object>"
      ]
     },
     "metadata": {},
     "output_type": "display_data"
    }
   ],
   "source": [
    "copywriter_agent_result = copywriter_agent(\n",
    "    image_path=graphic_designer_agent_result[\"image_path\"],\n",
    "    trend_summary=market_research_result,\n",
    ")"
   ]
  },
  {
   "cell_type": "markdown",
   "id": "ce7a027b",
   "metadata": {},
   "source": [
    "With a quote and justification ready, you’ll package everything into an executive-ready artifact using the Packaging Agent."
   ]
  },
  {
   "cell_type": "markdown",
   "id": "d8e8df4c",
   "metadata": {},
   "source": [
    "### 4.4. Packaging Agent  \n",
    "\n",
    "Finally, you bring in the **Packaging Agent** to tie everything together. After the **Market Research Agent**, **Graphic Designer Agent**, and **Copywriter Agent** have each contributed their part, this agent compiles the entire story into one polished artifact.  \n",
    "\n",
    "You ask it to take the trend summary, the campaign visual, the crafted quote, and the justification, and assemble them into an executive-ready markdown report. Along the way, it rewrites the trend insights for clarity and tone, ensures the quote is styled properly with the image, and organizes everything so the final document looks professional and persuasive.  \n",
    "\n",
    "With this step, you end up with a complete campaign package—easy to share, visually engaging, and ready for CEO-level review.  "
   ]
  },
  {
   "cell_type": "code",
   "execution_count": 10,
   "id": "facdcbc4",
   "metadata": {
    "height": 1099
   },
   "outputs": [],
   "source": [
    "def packaging_agent(trend_summary: str, image_url: str, quote: str, justification: str, output_path: str = \"campaign_summary.md\") -> str:\n",
    "\n",
    "    \"\"\"\n",
    "    Packages the campaign assets into a beautifully formatted markdown report for executive review.\n",
    "\n",
    "    Args:\n",
    "        trend_summary (str): Summary of the market trends.\n",
    "        image_url (str): URL of the campaign image.\n",
    "        quote (str): Marketing quote to overlay.\n",
    "        justification (str): Explanation for the quote.\n",
    "        output_path (str): Path to save the markdown report.\n",
    "\n",
    "    Returns:\n",
    "        str: Path to the saved markdown file.\n",
    "    \"\"\"\n",
    "\n",
    "    utils.log_agent_title_html(\"Packaging Agent\", \"📦\")\n",
    "\n",
    "    # We use this path in the src of the <img>\n",
    "    styled_image_html = f\"\"\"\n",
    "![Open the generated file to see]({image_url})\n",
    "    \"\"\"\n",
    "\n",
    "    beautified_summary = client.chat.completions.create(\n",
    "        model=\"openai:o4-mini\",\n",
    "        messages=[\n",
    "            {\"role\": \"system\", \"content\": \"You are a marketing communication expert writing elegant campaign summaries for executives.\"},\n",
    "            {\"role\": \"user\", \"content\": f\"\"\"\n",
    "Please rewrite the following trend summary to be clear, professional, and engaging for a CEO audience:\n",
    "\n",
    "\\\"\\\"\\\"{trend_summary.strip()}\\\"\\\"\\\"\n",
    "\"\"\"}\n",
    "        ]\n",
    "    ).choices[0].message.content.strip()\n",
    "\n",
    "    utils.log_tool_result_html(beautified_summary)\n",
    "\n",
    "    # Combine all parts into markdown\n",
    "    markdown_content = f\"\"\"# 🕶️ Summer Sunglasses Campaign – Executive Summary\n",
    "\n",
    "## 📊 Refined Trend Insights\n",
    "{beautified_summary}\n",
    "\n",
    "## 🎯 Campaign Visual\n",
    "{styled_image_html}\n",
    "\n",
    "## ✍️ Campaign Quote\n",
    "{quote.strip()}\n",
    "\n",
    "## ✅ Why This Works\n",
    "{justification.strip()}\n",
    "\n",
    "---\n",
    "\n",
    "*Report generated on {datetime.now().strftime('%Y-%m-%d')}*\n",
    "\"\"\"\n",
    "\n",
    "    with open(output_path, \"w\", encoding=\"utf-8\") as f:\n",
    "        f.write(markdown_content)\n",
    "\n",
    "    return output_path\n",
    "\n"
   ]
  },
  {
   "cell_type": "markdown",
   "id": "2341b1d9",
   "metadata": {},
   "source": [
    "With your trend summary, campaign image, and quote ready, you now hand everything to the **Packaging Agent**. Its job is to pull these pieces together into a polished, executive-ready report. Run the next cell to generate it.  \n"
   ]
  },
  {
   "cell_type": "code",
   "execution_count": 11,
   "id": "a5b40e2d",
   "metadata": {
    "height": 132
   },
   "outputs": [
    {
     "data": {
      "text/html": [
       "\n",
       "      <div style=\"padding:1em;margin:1em 0;background-color:#f0f4f8;border-left:6px solid #1976D2;\">\n",
       "        <h2 style=\"margin:0;color:#0D47A1;font-family:'Segoe UI',sans-serif;\">\n",
       "          📦 Packaging Agent\n",
       "        </h2>\n",
       "      </div>\n",
       "    "
      ],
      "text/plain": [
       "<IPython.core.display.HTML object>"
      ]
     },
     "metadata": {},
     "output_type": "display_data"
    },
    {
     "data": {
      "text/html": [
       "\n",
       "      <div style=\"border-left:4px solid #558B2F;padding:.8em;margin:1em 0;\n",
       "                  background-color:#f1f8e9;color:#33691E;\">\n",
       "        <strong>✅ Tool Result:</strong>\n",
       "        <pre style=\"white-space:pre-wrap;font-size:13px;color:#2E7D32;\">Summer 2025 Sunglasses: Trend Insights and Product Alignment\n",
       "\n",
       "Executive Summary  \n",
       "As we prepare our Summer 2025 campaign, three distinct eyewear movements emerge—Sporty Futuristic, Retro Glam, and Minimalist Chic. Each resonates with affluent consumers seeking performance, personality, or understated elegance. Our internally stocked styles not only capture these directional looks but also ensure inventory readiness and broad appeal.\n",
       "\n",
       "1. Summer 2025 Trend Highlights  \n",
       " • Sporty Futuristic  \n",
       "   Sleek shield designs and single-lens frames convey a “techwear” energy—equally at home on the tennis court or the runway. Full UV and wind protection fuse high performance with cutting-edge style.  \n",
       " • Retro Glam  \n",
       "   Oversized cat-eye shapes revisit ’60s cinema glamour in modern proportions. Dramatic upswept corners and refined temple details deliver instant luxury appeal.  \n",
       " • Minimalist Chic  \n",
       "   Thin metal frames and perfectly rounded lenses embrace the “quiet luxury” ethos. These pared-back silhouettes project artistic ease and timeless versatility.\n",
       "\n",
       "2. Product Recommendations  \n",
       " • SG004 “Sport”  \n",
       "   Wraparound single-lens architecture, rubberized grips, and ultra-light frame. Ideal for the Sporty Futuristic consumer, it delivers superior protection and a distinctly modern profile.  \n",
       " • SG003 “Mystique”  \n",
       "   Subtly curved cat-eye with embellished temple accents. Perfectly suited to the Retro Glam trend, it flatters diverse face shapes and elevates any summer ensemble.  \n",
       " • SG005 “Round”  \n",
       "   Delicate circular lenses set in minimalist metal. Embodies Minimalist Chic, appealing to both men and women who favor a refined, “barely there” aesthetic.\n",
       "\n",
       "3. Strategic Fit for the Campaign  \n",
       " • Comprehensive Trend Coverage: Addresses three dominant directional looks, allowing targeted messaging across key customer segments.  \n",
       " • Inventory Readiness: Current stock levels (Sport: 11 units; Mystique: 3 units; Round: 10 units) support both digital and in-store activations.  \n",
       " • Balanced Appeal: Each model combines on-trend cues with broad wearability, driving immediate summer sales and reinforcing long-term brand loyalty.</pre>\n",
       "      </div>\n",
       "    "
      ],
      "text/plain": [
       "<IPython.core.display.HTML object>"
      ]
     },
     "metadata": {},
     "output_type": "display_data"
    }
   ],
   "source": [
    "packaging_agent_result = packaging_agent(\n",
    "    trend_summary=market_research_result,\n",
    "    image_url=graphic_designer_agent_result[\"image_path\"],\n",
    "    quote=copywriter_agent_result[\"quote\"],\n",
    "    justification=copywriter_agent_result[\"justification\"],\n",
    "    output_path=f\"campaign_summary_{datetime.now().strftime('%Y-%m-%d_%H-%M-%S')}.md\"\n",
    ")"
   ]
  },
  {
   "cell_type": "markdown",
   "id": "53d0f8c1",
   "metadata": {},
   "source": [
    "The final result will be a beautifully formatted campaign report that you can view directly in the notebook. It will include:  \n",
    "\n",
    "- A refined trend summary that you will see rewritten for executive clarity  \n",
    "- A visually styled image with your campaign quote overlaid using HTML  \n",
    "- A clear justification so you understand why the visual and message align with current trends  \n",
    "- A timestamp showing you exactly when the report was generated  \n",
    "\n",
    "You can view it with:  "
   ]
  },
  {
   "cell_type": "code",
   "execution_count": 12,
   "id": "3903518d",
   "metadata": {
    "height": 115
   },
   "outputs": [
    {
     "data": {
      "text/markdown": [
       "# 🕶️ Summer Sunglasses Campaign – Executive Summary\n",
       "\n",
       "## 📊 Refined Trend Insights\n",
       "Summer 2025 Sunglasses: Trend Insights and Product Alignment\n",
       "\n",
       "Executive Summary  \n",
       "As we prepare our Summer 2025 campaign, three distinct eyewear movements emerge—Sporty Futuristic, Retro Glam, and Minimalist Chic. Each resonates with affluent consumers seeking performance, personality, or understated elegance. Our internally stocked styles not only capture these directional looks but also ensure inventory readiness and broad appeal.\n",
       "\n",
       "1. Summer 2025 Trend Highlights  \n",
       " • Sporty Futuristic  \n",
       "   Sleek shield designs and single-lens frames convey a “techwear” energy—equally at home on the tennis court or the runway. Full UV and wind protection fuse high performance with cutting-edge style.  \n",
       " • Retro Glam  \n",
       "   Oversized cat-eye shapes revisit ’60s cinema glamour in modern proportions. Dramatic upswept corners and refined temple details deliver instant luxury appeal.  \n",
       " • Minimalist Chic  \n",
       "   Thin metal frames and perfectly rounded lenses embrace the “quiet luxury” ethos. These pared-back silhouettes project artistic ease and timeless versatility.\n",
       "\n",
       "2. Product Recommendations  \n",
       " • SG004 “Sport”  \n",
       "   Wraparound single-lens architecture, rubberized grips, and ultra-light frame. Ideal for the Sporty Futuristic consumer, it delivers superior protection and a distinctly modern profile.  \n",
       " • SG003 “Mystique”  \n",
       "   Subtly curved cat-eye with embellished temple accents. Perfectly suited to the Retro Glam trend, it flatters diverse face shapes and elevates any summer ensemble.  \n",
       " • SG005 “Round”  \n",
       "   Delicate circular lenses set in minimalist metal. Embodies Minimalist Chic, appealing to both men and women who favor a refined, “barely there” aesthetic.\n",
       "\n",
       "3. Strategic Fit for the Campaign  \n",
       " • Comprehensive Trend Coverage: Addresses three dominant directional looks, allowing targeted messaging across key customer segments.  \n",
       " • Inventory Readiness: Current stock levels (Sport: 11 units; Mystique: 3 units; Round: 10 units) support both digital and in-store activations.  \n",
       " • Balanced Appeal: Each model combines on-trend cues with broad wearability, driving immediate summer sales and reinforcing long-term brand loyalty.\n",
       "\n",
       "## 🎯 Campaign Visual\n",
       "\n",
       "![Open the generated file to see](img-55NDgxrX3AFhHCqpVnjhosZ9.png)\n",
       "    \n",
       "\n",
       "## ✍️ Campaign Quote\n",
       "From sunrise runs to sunset soirées—discover your perfect summer shades\n",
       "\n",
       "## ✅ Why This Works\n",
       "This phrase evokes the dynamic transition from sporty morning activities to glamorous evening events, reflecting the image’s trio of wraparound, cat-eye, and minimalist frames and aligning with Summer 2025’s key sunglasses trends.\n",
       "\n",
       "---\n",
       "\n",
       "*Report generated on 2025-10-28*\n"
      ],
      "text/plain": [
       "<IPython.core.display.Markdown object>"
      ]
     },
     "metadata": {},
     "output_type": "display_data"
    }
   ],
   "source": [
    "# Load and render the markdown content\n",
    "with open(packaging_agent_result, \"r\", encoding=\"utf-8\") as f:\n",
    "    md_content = f.read()\n",
    "\n",
    "display(Markdown(md_content))\n"
   ]
  },
  {
   "cell_type": "markdown",
   "id": "f72cfde7",
   "metadata": {},
   "source": [
    "Finally, you’ll wrap the entire workflow into a single callable function to run the full pipeline in one step."
   ]
  },
  {
   "cell_type": "markdown",
   "id": "72e174f2",
   "metadata": {},
   "source": [
    "## 5. Full Campaign Pipeline – `run_sunglasses_campaign_pipeline`\n",
    "\n",
    "In this step, you will define a single function, `run_sunglasses_campaign_pipeline`, that ties all the pieces together into one seamless workflow for your summer sunglasses campaign.  \n",
    "\n",
    "The function will:  \n",
    "- Run market research to scan fashion trends and match them to your catalog.  \n",
    "- Generate a visually styled image and caption.  \n",
    "- Create a short, elegant campaign quote with justification.  \n",
    "- Package everything into a polished markdown report tailored for executive review.  \n",
    "\n",
    "By defining this function, you make it easy to run the **entire pipeline in one call** while still being able to trace intermediate results and view the final report.  "
   ]
  },
  {
   "cell_type": "code",
   "execution_count": 13,
   "id": "3ede037a",
   "metadata": {
    "height": 776
   },
   "outputs": [],
   "source": [
    "def run_sunglasses_campaign_pipeline(output_path: str = \"campaign_summary.md\") -> dict:\n",
    "    \"\"\"\n",
    "    Runs the full summer sunglasses campaign pipeline:\n",
    "    1. Market research (search trends + match products)\n",
    "    2. Generate visual + caption\n",
    "    3. Generate quote based on image + trend\n",
    "    4. Create executive markdown report\n",
    "\n",
    "    Returns:\n",
    "        dict: Dictionary containing all intermediate results + path to final report\n",
    "    \"\"\"\n",
    "    # 1. Run market research agent\n",
    "    trend_summary = market_research_agent()\n",
    "    print(\"✅ Market research completed\")\n",
    "\n",
    "    # 2. Generate image + caption\n",
    "    visual_result = graphic_designer_agent(trend_insights=trend_summary)\n",
    "    image_path = visual_result[\"image_path\"]\n",
    "    print(\"🖼️ Image generated\")\n",
    "\n",
    "    # 3. Generate quote based on image + trends\n",
    "    quote_result = copywriter_agent(image_path=image_path, trend_summary=trend_summary)\n",
    "    quote = quote_result.get(\"quote\", \"\")\n",
    "    justification = quote_result.get(\"justification\", \"\")\n",
    "    print(\"💬 Quote created\")\n",
    "\n",
    "    # 4. Generate markdown report\n",
    "    md_path = packaging_agent(\n",
    "        trend_summary=trend_summary,\n",
    "        image_url=image_path,  \n",
    "        quote=quote,\n",
    "        justification=justification,\n",
    "        output_path=f\"campaign_summary_{datetime.now().strftime('%Y-%m-%d_%H-%M-%S')}.md\"\n",
    "    )\n",
    "\n",
    "    print(f\"📦 Report generated: {md_path}\")\n",
    "\n",
    "    return {\n",
    "        \"trend_summary\": trend_summary,\n",
    "        \"visual\": visual_result,\n",
    "        \"quote\": quote_result,\n",
    "        \"markdown_path\": md_path\n",
    "    }\n"
   ]
  },
  {
   "cell_type": "markdown",
   "id": "6edf804e",
   "metadata": {},
   "source": [
    "You can now create a complete campaign report by running the pipeline in a single call. Just execute the next cell:  "
   ]
  },
  {
   "cell_type": "code",
   "execution_count": 14,
   "id": "ef8f076a",
   "metadata": {
    "height": 30
   },
   "outputs": [
    {
     "data": {
      "text/html": [
       "\n",
       "      <div style=\"padding:1em;margin:1em 0;background-color:#f0f4f8;border-left:6px solid #1976D2;\">\n",
       "        <h2 style=\"margin:0;color:#0D47A1;font-family:'Segoe UI',sans-serif;\">\n",
       "          🕵️‍♂️ Market Research Agent\n",
       "        </h2>\n",
       "      </div>\n",
       "    "
      ],
      "text/plain": [
       "<IPython.core.display.HTML object>"
      ]
     },
     "metadata": {},
     "output_type": "display_data"
    },
    {
     "data": {
      "text/html": [
       "\n",
       "      <div style=\"border-left:4px solid #1976D2;padding:.8em;margin:1em 0;\n",
       "                  background-color:#e3f2fd;color:#0D47A1;font-family:'Segoe UI',sans-serif;\">\n",
       "        <div style=\"font-size:15px;font-weight:bold;margin-bottom:4px;\">\n",
       "          📞 <span style=\"color:#0B3D91;\">Tool Call:</span> <span style=\"color:#0B3D91;\">tavily_search_tool</span>\n",
       "        </div>\n",
       "        <code style=\"display:block;background:#e8f0fe;color:#1b1b1b;padding:6px;border-radius:4px;\n",
       "                     font-size:13px;white-space:pre-wrap;\">{&quot;query&quot;:&quot;2025 summer sunglasses trends&quot;,&quot;max_results&quot;:5,&quot;include_images&quot;:false}</code>\n",
       "      </div>\n",
       "    "
      ],
      "text/plain": [
       "<IPython.core.display.HTML object>"
      ]
     },
     "metadata": {},
     "output_type": "display_data"
    },
    {
     "data": {
      "text/html": [
       "\n",
       "      <div style=\"border-left:4px solid #558B2F;padding:.8em;margin:1em 0;\n",
       "                  background-color:#f1f8e9;color:#33691E;\">\n",
       "        <strong>✅ Tool Result:</strong>\n",
       "        <pre style=\"white-space:pre-wrap;font-size:13px;color:#2E7D32;\">[{&#x27;title&#x27;: &#x27;Top 10 Sunglasses Trends for Spring/Summer 2025 - YouTube&#x27;, &#x27;content&#x27;: &quot;Top 10 Sunglasses Trends for Spring/Summer 2025 | Ultimate Guide from MM Design\\nMM Design\\n34900 subscribers\\n447 likes\\n23731 views\\n18 Mar 2025\\nJoin Maria on mmDesign as she explores the top 10 sunglasses trends for Spring/Summer 2025. From classic Aviators to futuristic frames, discover styles featured in major designer shows like Loewe, Louis Vuitton, and Dior. Learn which frames suit different face shapes and how to integrate these trends into your wardrobe. Don&#x27;t miss this comprehensive guide to stay fashionable this season!\\n\\n00:00 Introduction to Sunglasses Trends 2025\\n00:40 Aviators: Timeless Cool\\n01:38 Rounded Frames: Playful and Artistic\\n02:31 Wayfarers: Classic Rebel\\n03:28 Tinted Lenses: Making a Statement\\n04:22 Wraparound Shields: Sporty and Futuristic\\n05:14 Rectangle Frames: Sleek Minimalism\\n06:17 Minimal Frames: Barely There Aesthetic\\n07:01 Cat Eye Sunglasses: Feline Power Move\\n07:48 Oversized Frames: Go Big or Go Home\\n09:05 Futuristic Frames: Fashion Frontier\\n\\nFeaturing Designers:\\nAlaia, Chloe, Miu Miu, Gucci, Dolce &amp; Gabbana, Dres Van Noten, Prada, Alexander McQueen, David Koma, Dior, Erdem, Etro, Fendi, Ferragamo, JW Anderson, Kenzo, Loewe, Marni, Louis Vuitton, Moschino, Mugler, Saint Laurent, Troy Burch, Schiaparelli, Versace, Acne Studios, Stella McCartney, Balenziaga, Bottega Veneta, Balmain, Burberry, Celine, Courreges, Diesel, Elie Saab, Isabel Marant, Michael Kors, Nina Ricci, Off white, Valentino, Victoria Beckham, Zimmermann, Rabanne, Christopher Esber, Kiko Kostandinov, Simone Rocha, Roksanda. \\n\\n#fashiontrends #ss2025 #sunglassesfashion #runwayshow\\n51 comments\\n&quot;, &#x27;url&#x27;: &#x27;https://www.youtube.com/watch?v=31qagKh77Kc&#x27;}, {&#x27;title&#x27;: &#x27;2025 eyewear trends: The best sunglasses to shop now&#x27;, &#x27;content&#x27;: &quot;# This summer&#x27;s 7 sunglasses trends to shop now ## How do I choose the right sunglasses for my face shape? Characterised by full cheeks, a rounded chin, and equal width and length, round faces benefit from angular frames such as rectangular, square, or cat-eye sunglasses. Bottom-heavy frames, aviators, or round sunglasses soften the forehead and add width to the lower part of the face. Oversized sunglasses, wraparound styles, and rectangular frames are perfect choices. Photo: Lacoste spring/summer 2025 ## White frame sunglasses ## Cat eye sunglasses ##### Runway sunglasses ##### Metal frame sunglasses Photo: Chanel spring/summer 2025 ##### Square-frame acetate and gold-tone sunglasses ##### Wayfarer sunglasses ## Oversized sunglasses ##### Square sunglasses ##### Sunglasses square shape ## Aviator sunglasses&quot;, &#x27;url&#x27;: &#x27;https://www.voguescandinavia.com/articles/best-eyewear-sunglasses-trends-shop-2025&#x27;}, {&#x27;title&#x27;: &quot;The Top Sunglasses Trends of 2025: Styles Everyone&#x27;s Talking About&quot;, &#x27;content&#x27;: &#x27;The top trends in 2025 include oversized frames, futuristic shield sunglasses, transparent frames, retro-inspired designs, color-tinted lenses,&#x27;, &#x27;url&#x27;: &#x27;https://topfoxx.com/blogs/news/the-top-sunglasses-trends-of-2025-styles-everyone-s-talking-about?srsltid=AfmBOoovEmFnXy3rNk2uOIde3zM20xPxo7SbPKf54QD8Nt6XO_p7MNsy&#x27;}, {&#x27;title&#x27;: &#x27;Top 18 Sunglasses Worn by Celebrities in 2025 - Kraywoods&#x27;, &#x27;content&#x27;: &quot;Let&#x27;s take a closer look at one of the trends of 2025: Wayfarer sunglasses. Identical to the clubmaster yet slightly different, the wayfarer shape is&quot;, &#x27;url&#x27;: &#x27;https://www.kraywoods.com/blogs/our-stories/top-celebrity-sunglasses?srsltid=AfmBOopgbfoPFjWUqO4poA3IZXWy57Jp9b-fDU9O1rly-a4heEIMLUYF&#x27;}, {&#x27;title&#x27;: &#x27;Sunglasses Trends and Styles for Autumn/Winter 2025&#x27;, &#x27;content&#x27;: &#x27;The best shopping picks and trends in sunglasses, compiled by our editors to help you create the perfect outfit for any occasion. * ## I Low-Key Wear These $30 Sunglasses More Than My Luxury Pairs—19 Styles I\\&#x27;m Eyeing Next * ## 7 Sunglasses Trends Every Fashion Person Will Be Wearing This Summer * ## This Sunglasses Trend Is Set to Be Huge in 2025 * ## This Chic Eyewear Trend Will Help You Get &quot;Summer in the Hamptons&quot; Style * ## I\\&#x27;m an Accessory Expert—6 Trends I Can\\&#x27;t Wait to Get My Hands on This Summer * ## I\\&#x27;m Calling It—These French Sunglasses Are Destined to Go Viral * ## The &quot;Dated&quot; Sunglasses Trend That Destined to Be Everywhere Again&#x27;, &#x27;url&#x27;: &#x27;https://www.whowhatwear.com/tag/sunglasses&#x27;}]</pre>\n",
       "      </div>\n",
       "    "
      ],
      "text/plain": [
       "<IPython.core.display.HTML object>"
      ]
     },
     "metadata": {},
     "output_type": "display_data"
    },
    {
     "data": {
      "text/html": [
       "\n",
       "      <div style=\"border-left:4px solid #1976D2;padding:.8em;margin:1em 0;\n",
       "                  background-color:#e3f2fd;color:#0D47A1;font-family:'Segoe UI',sans-serif;\">\n",
       "        <div style=\"font-size:15px;font-weight:bold;margin-bottom:4px;\">\n",
       "          📞 <span style=\"color:#0B3D91;\">Tool Call:</span> <span style=\"color:#0B3D91;\">product_catalog_tool</span>\n",
       "        </div>\n",
       "        <code style=\"display:block;background:#e8f0fe;color:#1b1b1b;padding:6px;border-radius:4px;\n",
       "                     font-size:13px;white-space:pre-wrap;\">{&quot;max_items&quot;:10}</code>\n",
       "      </div>\n",
       "    "
      ],
      "text/plain": [
       "<IPython.core.display.HTML object>"
      ]
     },
     "metadata": {},
     "output_type": "display_data"
    },
    {
     "data": {
      "text/html": [
       "\n",
       "      <div style=\"border-left:4px solid #558B2F;padding:.8em;margin:1em 0;\n",
       "                  background-color:#f1f8e9;color:#33691E;\">\n",
       "        <strong>✅ Tool Result:</strong>\n",
       "        <pre style=\"white-space:pre-wrap;font-size:13px;color:#2E7D32;\">[{&#x27;name&#x27;: &#x27;Aviator&#x27;, &#x27;item_id&#x27;: &#x27;SG001&#x27;, &#x27;description&#x27;: &#x27;Originally designed for pilots, these teardrop-shaped lenses with thin metal frames offer timeless appeal. The large lenses provide excellent coverage while the lightweight construction ensures comfort during long wear.&#x27;, &#x27;quantity_in_stock&#x27;: 23, &#x27;price&#x27;: 103}, {&#x27;name&#x27;: &#x27;Wayfarer&#x27;, &#x27;item_id&#x27;: &#x27;SG002&#x27;, &#x27;description&#x27;: &#x27;Featuring thick, angular frames that make a statement, these sunglasses combine retro charm with modern edge. The rectangular lenses and sturdy acetate construction create a confident look.&#x27;, &#x27;quantity_in_stock&#x27;: 6, &#x27;price&#x27;: 92}, {&#x27;name&#x27;: &#x27;Mystique&#x27;, &#x27;item_id&#x27;: &#x27;SG003&#x27;, &#x27;description&#x27;: &#x27;Inspired by 1950s glamour, these frames sweep upward at the outer corners to create an elegant, feminine silhouette. The subtle curves and often embellished temples add sophistication to any outfit.&#x27;, &#x27;quantity_in_stock&#x27;: 3, &#x27;price&#x27;: 88}, {&#x27;name&#x27;: &#x27;Sport&#x27;, &#x27;item_id&#x27;: &#x27;SG004&#x27;, &#x27;description&#x27;: &#x27;Designed for active lifestyles, these wraparound sunglasses feature a single curved lens that provides maximum coverage and wind protection. The lightweight, flexible frames include rubber grips.&#x27;, &#x27;quantity_in_stock&#x27;: 11, &#x27;price&#x27;: 144}, {&#x27;name&#x27;: &#x27;Round&#x27;, &#x27;item_id&#x27;: &#x27;SG005&#x27;, &#x27;description&#x27;: &#x27;Circular lenses set in minimalist frames create a thoughtful, artistic appearance. These sunglasses evoke a scholarly or creative vibe while remaining effortlessly stylish.&#x27;, &#x27;quantity_in_stock&#x27;: 10, &#x27;price&#x27;: 86}]</pre>\n",
       "      </div>\n",
       "    "
      ],
      "text/plain": [
       "<IPython.core.display.HTML object>"
      ]
     },
     "metadata": {},
     "output_type": "display_data"
    },
    {
     "data": {
      "text/html": [
       "\n",
       "      <div style=\"border-left:4px solid #2E7D32;padding:1em;margin:1em 0;\n",
       "                  background-color:#e8f5e9;color:#1B5E20;\">\n",
       "        <strong>✅ Final Summary:</strong>\n",
       "        <pre style=\"white-space:pre-wrap;font-size:13px;color:#1B5E20;\">Here’s the Summer 2025 sunglasses trend analysis and product recommendations:\n",
       "\n",
       "1. Top Trends for Summer 2025  \n",
       "   • Wraparound Shields / Sporty Futuristic  \n",
       "     – Sleek, single-lens frames that offer full coverage and a forward-looking, “techwear” vibe. Seen across runway shows as both functional performance wear and fashion statements.  \n",
       "   • Cat-Eye &amp; Oversized Retro  \n",
       "     – Dramatic upswept corners and larger silhouettes channel vintage glamour with a modern edge. Popularized by luxe designers and street-style influencers alike.  \n",
       "   • Minimalist / Rounded Frames  \n",
       "     – Thin, pared-back frames with circular lenses for an artistic, understated look. Appeals to the “quiet luxury” and “barely there” aesthetic.\n",
       "\n",
       "2. Matching Products from Internal Catalog  \n",
       "   • SG004 “Sport”  \n",
       "     – Wraparound, single-lens design with rubber grips and lightweight, flexible frames.  \n",
       "     – Aligns perfectly with the sporty-futuristic trend and offers excellent UV and wind protection for active summer lifestyles.  \n",
       "   • SG003 “Mystique”  \n",
       "     – Cat-eye silhouette with subtle curves and embellished temples.  \n",
       "     – Taps into the retro-glam trend, flattering a wide range of face shapes and adding a touch of elegance to summer wardrobes.  \n",
       "   • SG005 “Round”  \n",
       "     – Simple, circular lenses in minimalist metal frames.  \n",
       "     – Embodies the “barely there” aesthetic—versatile for both men’s and women’s styling and in line with the minimalist trend.\n",
       "\n",
       "3. Why These Are a Good Fit for the Campaign  \n",
       "   – They cover the key directional looks—sporty/futuristic, retro-glam, and minimalist—allowing us to target varied customer segments.  \n",
       "   – All three styles are well-stocked (11 Sport, 3 Mystique, 10 Round), ready to support both online and in-store promotions.  \n",
       "   – Each design balances trend appeal with broad consumer wearability, driving both immediate summer sales and long-term brand loyalty.</pre>\n",
       "      </div>\n",
       "    "
      ],
      "text/plain": [
       "<IPython.core.display.HTML object>"
      ]
     },
     "metadata": {},
     "output_type": "display_data"
    },
    {
     "name": "stdout",
     "output_type": "stream",
     "text": [
      "✅ Market research completed\n"
     ]
    },
    {
     "data": {
      "text/html": [
       "\n",
       "      <div style=\"padding:1em;margin:1em 0;background-color:#f0f4f8;border-left:6px solid #1976D2;\">\n",
       "        <h2 style=\"margin:0;color:#0D47A1;font-family:'Segoe UI',sans-serif;\">\n",
       "          🎨 Graphic Designer Agent\n",
       "        </h2>\n",
       "      </div>\n",
       "    "
      ],
      "text/plain": [
       "<IPython.core.display.HTML object>"
      ]
     },
     "metadata": {},
     "output_type": "display_data"
    },
    {
     "data": {
      "text/html": [
       "\n",
       "      <div style=\"border-left:4px solid #2E7D32;padding:1em;margin:1em 0;\n",
       "                  background-color:#e8f5e9;color:#1B5E20;\">\n",
       "        <strong>✅ Final Summary:</strong>\n",
       "        <pre style=\"white-space:pre-wrap;font-size:13px;color:#1B5E20;\">&lt;h3&gt;Generated Image and Caption&lt;/h3&gt;\n",
       "\n",
       "        &lt;p&gt;&lt;strong&gt;Image Path:&lt;/strong&gt; &lt;code&gt;img-55NDgxrX3AFhHCqpVnjhosZ9.png&lt;/code&gt;&lt;/p&gt;\n",
       "\n",
       "        &lt;p&gt;&lt;strong&gt;Generated Image:&lt;/strong&gt;&lt;/p&gt;\n",
       "        &lt;img src=&quot;img-55NDgxrX3AFhHCqpVnjhosZ9.png&quot; alt=&quot;Generated Image&quot; style=&quot;max-width: 100%; height: auto; border: 1px solid #ccc; border-radius: 8px; margin-top: 10px; margin-bottom: 10px;&quot;&gt;\n",
       "\n",
       "        &lt;p&gt;&lt;strong&gt;Prompt:&lt;/strong&gt; A vibrant summer editorial triptych under golden sunlight: Left panel features an athletic model in motion at an urban skate park, wearing SG004 “Sport” wraparound shield sunglasses—sleek single-lens, rubber grips, metallic lightweight frame—wind-blown hair and dynamic graffiti backdrop. Center panel shows a poised figure on a sunlit seaside boardwalk in a flowing dress, donning SG003 “Mystique” oversized cat-eye shades with embellished gold temples, pastel sky and softly crashing waves behind. Right panel is a minimalist portrait against a crisp white architectural wall, a neutral-toned linen shirt and SG005 “Round” thin metal circular frames catching a soft glow. High-contrast lighting, bold summer colors, modern fashion editorial style.&lt;/p&gt;</pre>\n",
       "      </div>\n",
       "    "
      ],
      "text/plain": [
       "<IPython.core.display.HTML object>"
      ]
     },
     "metadata": {},
     "output_type": "display_data"
    },
    {
     "name": "stdout",
     "output_type": "stream",
     "text": [
      "🖼️ Image generated\n"
     ]
    },
    {
     "data": {
      "text/html": [
       "\n",
       "      <div style=\"padding:1em;margin:1em 0;background-color:#f0f4f8;border-left:6px solid #1976D2;\">\n",
       "        <h2 style=\"margin:0;color:#0D47A1;font-family:'Segoe UI',sans-serif;\">\n",
       "          ✍️ Copywriter Agent\n",
       "        </h2>\n",
       "      </div>\n",
       "    "
      ],
      "text/plain": [
       "<IPython.core.display.HTML object>"
      ]
     },
     "metadata": {},
     "output_type": "display_data"
    },
    {
     "data": {
      "text/html": [
       "\n",
       "      <div style=\"border-left:4px solid #2E7D32;padding:1em;margin:1em 0;\n",
       "                  background-color:#e8f5e9;color:#1B5E20;\">\n",
       "        <strong>✅ Final Summary:</strong>\n",
       "        <pre style=\"white-space:pre-wrap;font-size:13px;color:#1B5E20;\">{\n",
       "  &quot;quote&quot;: &quot;From sunrise runs to sunset soirées—discover your perfect summer shades&quot;,\n",
       "  &quot;justification&quot;: &quot;This phrase evokes the dynamic transition from sporty morning activities to glamorous evening events, reflecting the image’s trio of wraparound, cat-eye, and minimalist frames and aligning with Summer 2025’s key sunglasses trends.&quot;\n",
       "}</pre>\n",
       "      </div>\n",
       "    "
      ],
      "text/plain": [
       "<IPython.core.display.HTML object>"
      ]
     },
     "metadata": {},
     "output_type": "display_data"
    },
    {
     "name": "stdout",
     "output_type": "stream",
     "text": [
      "💬 Quote created\n"
     ]
    },
    {
     "data": {
      "text/html": [
       "\n",
       "      <div style=\"padding:1em;margin:1em 0;background-color:#f0f4f8;border-left:6px solid #1976D2;\">\n",
       "        <h2 style=\"margin:0;color:#0D47A1;font-family:'Segoe UI',sans-serif;\">\n",
       "          📦 Packaging Agent\n",
       "        </h2>\n",
       "      </div>\n",
       "    "
      ],
      "text/plain": [
       "<IPython.core.display.HTML object>"
      ]
     },
     "metadata": {},
     "output_type": "display_data"
    },
    {
     "data": {
      "text/html": [
       "\n",
       "      <div style=\"border-left:4px solid #558B2F;padding:.8em;margin:1em 0;\n",
       "                  background-color:#f1f8e9;color:#33691E;\">\n",
       "        <strong>✅ Tool Result:</strong>\n",
       "        <pre style=\"white-space:pre-wrap;font-size:13px;color:#2E7D32;\">Summer 2025 Sunglasses: Trend Insights and Product Alignment\n",
       "\n",
       "Executive Summary  \n",
       "As we prepare our Summer 2025 campaign, three distinct eyewear movements emerge—Sporty Futuristic, Retro Glam, and Minimalist Chic. Each resonates with affluent consumers seeking performance, personality, or understated elegance. Our internally stocked styles not only capture these directional looks but also ensure inventory readiness and broad appeal.\n",
       "\n",
       "1. Summer 2025 Trend Highlights  \n",
       " • Sporty Futuristic  \n",
       "   Sleek shield designs and single-lens frames convey a “techwear” energy—equally at home on the tennis court or the runway. Full UV and wind protection fuse high performance with cutting-edge style.  \n",
       " • Retro Glam  \n",
       "   Oversized cat-eye shapes revisit ’60s cinema glamour in modern proportions. Dramatic upswept corners and refined temple details deliver instant luxury appeal.  \n",
       " • Minimalist Chic  \n",
       "   Thin metal frames and perfectly rounded lenses embrace the “quiet luxury” ethos. These pared-back silhouettes project artistic ease and timeless versatility.\n",
       "\n",
       "2. Product Recommendations  \n",
       " • SG004 “Sport”  \n",
       "   Wraparound single-lens architecture, rubberized grips, and ultra-light frame. Ideal for the Sporty Futuristic consumer, it delivers superior protection and a distinctly modern profile.  \n",
       " • SG003 “Mystique”  \n",
       "   Subtly curved cat-eye with embellished temple accents. Perfectly suited to the Retro Glam trend, it flatters diverse face shapes and elevates any summer ensemble.  \n",
       " • SG005 “Round”  \n",
       "   Delicate circular lenses set in minimalist metal. Embodies Minimalist Chic, appealing to both men and women who favor a refined, “barely there” aesthetic.\n",
       "\n",
       "3. Strategic Fit for the Campaign  \n",
       " • Comprehensive Trend Coverage: Addresses three dominant directional looks, allowing targeted messaging across key customer segments.  \n",
       " • Inventory Readiness: Current stock levels (Sport: 11 units; Mystique: 3 units; Round: 10 units) support both digital and in-store activations.  \n",
       " • Balanced Appeal: Each model combines on-trend cues with broad wearability, driving immediate summer sales and reinforcing long-term brand loyalty.</pre>\n",
       "      </div>\n",
       "    "
      ],
      "text/plain": [
       "<IPython.core.display.HTML object>"
      ]
     },
     "metadata": {},
     "output_type": "display_data"
    },
    {
     "name": "stdout",
     "output_type": "stream",
     "text": [
      "📦 Report generated: campaign_summary_2025-10-28_22-12-12.md\n"
     ]
    }
   ],
   "source": [
    "results = run_sunglasses_campaign_pipeline()"
   ]
  },
  {
   "cell_type": "markdown",
   "id": "6daba8a4",
   "metadata": {},
   "source": [
    "### 5.1. Results\n",
    "\n",
    "Run the following cell to view the outputs generated by the full campaign pipeline."
   ]
  },
  {
   "cell_type": "code",
   "execution_count": 15,
   "id": "6fb3807f",
   "metadata": {
    "height": 81
   },
   "outputs": [
    {
     "data": {
      "text/markdown": [
       "# 🕶️ Summer Sunglasses Campaign – Executive Summary\n",
       "\n",
       "## 📊 Refined Trend Insights\n",
       "Summer 2025 Sunglasses: Trend Insights and Product Alignment\n",
       "\n",
       "Executive Summary  \n",
       "As we prepare our Summer 2025 campaign, three distinct eyewear movements emerge—Sporty Futuristic, Retro Glam, and Minimalist Chic. Each resonates with affluent consumers seeking performance, personality, or understated elegance. Our internally stocked styles not only capture these directional looks but also ensure inventory readiness and broad appeal.\n",
       "\n",
       "1. Summer 2025 Trend Highlights  \n",
       " • Sporty Futuristic  \n",
       "   Sleek shield designs and single-lens frames convey a “techwear” energy—equally at home on the tennis court or the runway. Full UV and wind protection fuse high performance with cutting-edge style.  \n",
       " • Retro Glam  \n",
       "   Oversized cat-eye shapes revisit ’60s cinema glamour in modern proportions. Dramatic upswept corners and refined temple details deliver instant luxury appeal.  \n",
       " • Minimalist Chic  \n",
       "   Thin metal frames and perfectly rounded lenses embrace the “quiet luxury” ethos. These pared-back silhouettes project artistic ease and timeless versatility.\n",
       "\n",
       "2. Product Recommendations  \n",
       " • SG004 “Sport”  \n",
       "   Wraparound single-lens architecture, rubberized grips, and ultra-light frame. Ideal for the Sporty Futuristic consumer, it delivers superior protection and a distinctly modern profile.  \n",
       " • SG003 “Mystique”  \n",
       "   Subtly curved cat-eye with embellished temple accents. Perfectly suited to the Retro Glam trend, it flatters diverse face shapes and elevates any summer ensemble.  \n",
       " • SG005 “Round”  \n",
       "   Delicate circular lenses set in minimalist metal. Embodies Minimalist Chic, appealing to both men and women who favor a refined, “barely there” aesthetic.\n",
       "\n",
       "3. Strategic Fit for the Campaign  \n",
       " • Comprehensive Trend Coverage: Addresses three dominant directional looks, allowing targeted messaging across key customer segments.  \n",
       " • Inventory Readiness: Current stock levels (Sport: 11 units; Mystique: 3 units; Round: 10 units) support both digital and in-store activations.  \n",
       " • Balanced Appeal: Each model combines on-trend cues with broad wearability, driving immediate summer sales and reinforcing long-term brand loyalty.\n",
       "\n",
       "## 🎯 Campaign Visual\n",
       "\n",
       "![Open the generated file to see](img-55NDgxrX3AFhHCqpVnjhosZ9.png)\n",
       "    \n",
       "\n",
       "## ✍️ Campaign Quote\n",
       "From sunrise runs to sunset soirées—discover your perfect summer shades\n",
       "\n",
       "## ✅ Why This Works\n",
       "This phrase evokes the dynamic transition from sporty morning activities to glamorous evening events, reflecting the image’s trio of wraparound, cat-eye, and minimalist frames and aligning with Summer 2025’s key sunglasses trends.\n",
       "\n",
       "---\n",
       "\n",
       "*Report generated on 2025-10-28*\n"
      ],
      "text/plain": [
       "<IPython.core.display.Markdown object>"
      ]
     },
     "metadata": {},
     "output_type": "display_data"
    }
   ],
   "source": [
    "with open(results[\"markdown_path\"], \"r\", encoding=\"utf-8\") as f:\n",
    "    md_content = f.read()\n",
    "display(Markdown(md_content))\n"
   ]
  },
  {
   "cell_type": "markdown",
   "id": "242d1eba",
   "metadata": {},
   "source": [
    "## 6. Key Takeaways  \n",
    "\n",
    "By completing this lab, you have seen how to:  \n",
    "\n",
    "- Use **multi-agent LLM pipelines** to automate a creative workflow end-to-end.  \n",
    "- Combine **reasoning, tool-calling, and external data** to ground your outputs in reality.  \n",
    "- Apply multimodal models (like `gpt-4o`) that process **both text and images** for tasks such as generating campaign quotes.  \n",
    "- Extend the model’s abilities with tools (`tavily_search_tool`, `product_catalog_tool`) so your outputs are not only imaginative but also practical.  \n",
    "- Keep execution **transparent and debuggable** with structured logging and HTML-styled blocks.  \n",
    "- Deliver a polished, **executive-ready report** in Markdown format that blends insights, visuals, and justifications into a single artifact.  \n",
    "\n"
   ]
  },
  {
   "cell_type": "markdown",
   "id": "d0b052d8",
   "metadata": {},
   "source": [
    "<div style=\"border:1px solid #22c55e; border-left:6px solid #16a34a; background:#dcfce7; border-radius:6px; padding:14px 16px; color:#064e3b; font-family:system-ui,-apple-system,Segoe UI,Roboto,Ubuntu,Cantarell,Noto Sans,sans-serif;\">\n",
    "\n",
    "🎉 <strong>Congratulations!</strong> 🎉  \n",
    "\n",
    "Now you have successfully built and run a **multi-agent pipeline**: you researched trends, generated visuals, crafted a campaign quote, and packaged everything into an **executive-ready report**.  \n",
    "\n",
    "This workflow shows you how to combine the **creativity of LLMs** with the **discipline of structured orchestration**, giving you a repeatable pattern you can adapt to many real-world scenarios. 🌟  \n",
    "</div>\n"
   ]
  }
 ],
 "metadata": {
  "kernelspec": {
   "display_name": "Python 3 (ipykernel)",
   "language": "python",
   "name": "python3"
  },
  "language_info": {
   "codemirror_mode": {
    "name": "ipython",
    "version": 3
   },
   "file_extension": ".py",
   "mimetype": "text/x-python",
   "name": "python",
   "nbconvert_exporter": "python",
   "pygments_lexer": "ipython3",
   "version": "3.11.13"
  }
 },
 "nbformat": 4,
 "nbformat_minor": 5
}
