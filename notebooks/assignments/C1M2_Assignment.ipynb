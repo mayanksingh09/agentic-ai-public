{
 "cells": [
  {
   "cell_type": "markdown",
   "id": "ec95313a",
   "metadata": {},
   "source": [
    "## Graded Lab: Reflection in a Research Agent\n",
    "\n",
    "In this graded lab, you’ll implement a simple **agentic workflow** designed to simulate reflective thinking in a writing task. This is one building block of a more complex research agent that will be constructed throughout the course.\n",
    "\n",
    "### Objective\n",
    "\n",
    "Build a three-step workflow where an LLM writes an essay draft, critiques it, and rewrites it. \n",
    "\n",
    "* **Step 1 – Drafting:** Call the LLM to generate an initial draft of an essay based on a simple prompt.\n",
    "* **Step 2 – Reflection:** Reflect on the draft using a reasoning step. (Optionally, this can be done with a different model.)\n",
    "* **Step 3 – Revision:** Apply the feedback from the reflection to generate a revised version of the essay.\n"
   ]
  },
  {
   "cell_type": "markdown",
   "id": "4a473390",
   "metadata": {},
   "source": [
    "---\n",
    "<a name='submission'></a>\n",
    "\n",
    "<h4 style=\"color:green; font-weight:bold;\">TIPS FOR SUCCESSFUL GRADING OF YOUR ASSIGNMENT:</h4>\n",
    "\n",
    "* All cells are frozen except for the ones where you need to write your solution code or when explicitly mentioned you can interact with it.\n",
    "\n",
    "* In each exercise cell, look for comments `### START CODE HERE ###` and `### END CODE HERE ###`. These show you where to write the solution code. **Do not add or change any code that is outside these comments**.\n",
    "\n",
    "* You can add new cells to experiment but these will be omitted by the grader, so don't rely on newly created cells to host your solution code, use the provided places for this.\n",
    "\n",
    "* Avoid using global variables unless you absolutely have to. The grader tests your code in an isolated environment without running all cells from the top. As a result, global variables may be unavailable when scoring your submission. Global variables that are meant to be used will be defined in UPPERCASE.\n",
    "\n",
    "* To submit your notebook for grading, first save it by clicking the 💾 icon on the top left of the page and then click on the <span style=\"background-color: red; color: white; padding: 3px 5px; font-size: 16px; border-radius: 5px;\">Submit assignment</span> button on the top right of the page.\n",
    "---"
   ]
  },
  {
   "cell_type": "markdown",
   "id": "19131dc4",
   "metadata": {},
   "source": [
    "Before interacting with the language models, we initialize the `aisuite` client. This setup loads environment variables (e.g., API keys) from a `.env` file to securely authenticate with backend services. The `ai.Client()` instance will be used to make all model calls throughout this workflow."
   ]
  },
  {
   "cell_type": "code",
   "execution_count": 1,
   "id": "9ccd6eeb",
   "metadata": {
    "deletable": false,
    "editable": false,
    "height": 149,
    "tags": [
     "graded"
    ]
   },
   "outputs": [],
   "source": [
    "from dotenv import load_dotenv\n",
    "\n",
    "load_dotenv()\n",
    "\n",
    "import aisuite as ai\n",
    "\n",
    "# Define the client. You can use this variable inside your graded functions!\n",
    "CLIENT = ai.Client()"
   ]
  },
  {
   "cell_type": "code",
   "execution_count": 2,
   "id": "88ef4447",
   "metadata": {
    "deletable": false,
    "editable": false,
    "height": 30
   },
   "outputs": [],
   "source": [
    "import unittests"
   ]
  },
  {
   "cell_type": "markdown",
   "id": "cb1d6e33",
   "metadata": {},
   "source": [
    "## Exercise 1: `generate_draft` Function\n",
    "\n",
    "**Objective**:\n",
    "Write a function called `generate_draft` that takes in a string topic and uses a language model to generate a complete draft essay.\n",
    "\n",
    "**Inputs**:\n",
    "\n",
    "* `topic` (str): The essay topic.\n",
    "* `model` (str, optional): The model identifier to use. Defaults to `\"openai:gpt-4o\"`.\n",
    "\n",
    "**Output**:\n",
    "\n",
    "* A string representing the full draft of the essay.\n",
    "\n",
    "The setup for calling the LLM using the aisuite library is already provided. Focus on crafting the prompt content. You can reference this setup in later exercises to understand how to interact with the library effectively.\n"
   ]
  },
  {
   "cell_type": "code",
   "execution_count": 3,
   "id": "dbe325d5",
   "metadata": {
    "deletable": false,
    "height": 504,
    "tags": [
     "graded"
    ]
   },
   "outputs": [],
   "source": [
    "# GRADED FUNCTION: generate_draft\n",
    "\n",
    "def generate_draft(topic: str, model: str = \"openai:gpt-4o\") -> str: \n",
    "    \n",
    "    ### START CODE HERE ###\n",
    "\n",
    "    # Define your prompt here. A multi-line f-string is typically used for this.\n",
    "    prompt = f\"\"\"\n",
    "    You are an expert essay writer.\n",
    "    \n",
    "    You are expected to write a first draft of an essay based on the topic provided by the user. \n",
    "    \n",
    "    User topic:\n",
    "    {topic}\n",
    "    \n",
    "    Return just the essay draft and nothing else as plain text.\n",
    "    \"\"\"\n",
    "\n",
    "    ### END CODE HERE ###\n",
    "    \n",
    "    # Get a response from the LLM by creating a chat with the client.\n",
    "    response = CLIENT.chat.completions.create(\n",
    "        model=model,\n",
    "        messages=[{\"role\": \"user\", \"content\": prompt}],\n",
    "        temperature=1.0,\n",
    "    )\n",
    "\n",
    "    return response.choices[0].message.content"
   ]
  },
  {
   "cell_type": "markdown",
   "id": "2b989100",
   "metadata": {},
   "source": [
    "Run the following cell to check your code is working correctly:"
   ]
  },
  {
   "cell_type": "code",
   "execution_count": 4,
   "id": "85ee72c5",
   "metadata": {
    "deletable": false,
    "editable": false,
    "height": 47
   },
   "outputs": [
    {
     "name": "stdout",
     "output_type": "stream",
     "text": [
      "\u001b[92m All tests passed!\n"
     ]
    }
   ],
   "source": [
    "# Test your code!\n",
    "unittests.test_generate_draft(generate_draft)"
   ]
  },
  {
   "cell_type": "markdown",
   "id": "136a95db",
   "metadata": {},
   "source": [
    "## Exercise 2: `reflect_on_draft` Function\n",
    "\n",
    "**Objective**:\n",
    "Write a function called `reflect_on_draft` that takes a previously generated essay draft and uses a language model to provide constructive feedback.\n",
    "\n",
    "**Inputs**:\n",
    "\n",
    "* `draft` (str): The essay text to reflect on.\n",
    "* `model` (str, optional): The model identifier to use. Defaults to `\"openai:o4-mini\"`.\n",
    "\n",
    "**Output**:\n",
    "\n",
    "* A string with feedback in paragraph form.\n",
    "\n",
    "**Requirements**:\n",
    "\n",
    "* The feedback should be critical but constructive.\n",
    "* It should address issues such as structure, clarity, strength of argument, and writing style.\n",
    "* The function should send the draft to the model and return its response.\n",
    "\n",
    "You do **not** need to rewrite the essay at this step—just analyze and reflect on it.\n"
   ]
  },
  {
   "cell_type": "code",
   "execution_count": 5,
   "id": "4cc1a1cf",
   "metadata": {
    "deletable": false,
    "height": 521,
    "tags": [
     "graded"
    ]
   },
   "outputs": [],
   "source": [
    "# GRADED FUNCTION: reflect_on_draft\n",
    "\n",
    "def reflect_on_draft(draft: str, model: str = \"openai:o4-mini\") -> str:\n",
    "\n",
    "    ### START CODE HERE ###\n",
    "\n",
    "    # Define your prompt here. A multi-line f-string is typically used for this.\n",
    "    prompt = f\"\"\"\n",
    "    You are an expert essay reviewer. You provide expert level constructive feedback.\n",
    "    \n",
    "    Provide constructive feedback on a first draft of a user essay. \n",
    "    Focus on providing feedback on the structure, clarity, strength of argument and writing style. These fields are MANDATORY.\n",
    "    \n",
    "    Essay draft:\n",
    "    {draft}\n",
    "    \n",
    "    Provide the feedback ONLY as plain text. DO NOT add additional information.\n",
    "    \"\"\"\n",
    "\n",
    "    ### END CODE HERE ###\n",
    "\n",
    "    # Get a response from the LLM by creating a chat with the client.\n",
    "    response = CLIENT.chat.completions.create(\n",
    "        model=model,\n",
    "        messages=[{\"role\": \"user\", \"content\": prompt}],\n",
    "        temperature=1.0,\n",
    "    )\n",
    "\n",
    "    return response.choices[0].message.content"
   ]
  },
  {
   "cell_type": "code",
   "execution_count": 6,
   "id": "001ce37a",
   "metadata": {
    "deletable": false,
    "editable": false,
    "height": 47
   },
   "outputs": [
    {
     "name": "stdout",
     "output_type": "stream",
     "text": [
      "\u001b[92m All tests passed!\n"
     ]
    }
   ],
   "source": [
    "# Test your code!\n",
    "unittests.test_reflect_on_draft(reflect_on_draft)"
   ]
  },
  {
   "cell_type": "markdown",
   "id": "e99bba56",
   "metadata": {},
   "source": [
    "## Exercise 3: `revise_draft` Function\n",
    "\n",
    "**Objective**:\n",
    "Implement a function called `revise_draft` that improves a given essay draft based on feedback from a reflection step.\n",
    "\n",
    "**Inputs**:\n",
    "\n",
    "* `original_draft` (str): The initial version of the essay.\n",
    "* `reflection` (str): Constructive feedback or critique on the draft.\n",
    "* `model` (str, optional): The model identifier to use. Defaults to `\"openai:gpt-4o\"`.\n",
    "\n",
    "**Output**:\n",
    "\n",
    "* A string containing the revised and improved essay.\n",
    "\n",
    "**Requirements**:\n",
    "\n",
    "* The revised draft should address the issues mentioned in the feedback.\n",
    "* It should improve clarity, coherence, argument strength, and overall flow.\n",
    "* The function should use the feedback to guide the revision, and return only the final revised essay.\n",
    "\n",
    "In this final exercise, you'll also need to manage the call to the LLM using the CLIENT, as you've practiced in previous exercises."
   ]
  },
  {
   "cell_type": "code",
   "execution_count": 9,
   "id": "f91595e9",
   "metadata": {
    "deletable": false,
    "height": 521,
    "tags": [
     "graded"
    ]
   },
   "outputs": [],
   "source": [
    "# GRADED FUNCTION: revise_draft\n",
    "\n",
    "def revise_draft(original_draft: str, reflection: str, model: str = \"openai:gpt-4o\") -> str:\n",
    "\n",
    "    ### START CODE HERE ###\n",
    "\n",
    "    # Define your prompt here. A multi-line f-string is typically used for this.\n",
    "    prompt = f\"\"\"\n",
    "    Incorporate the feedback provided on the first draft of an essay and rewrite the draft based on the feedback.\n",
    "    \n",
    "    First Draft:\n",
    "    {original_draft}\n",
    "    \n",
    "    Feedback:\n",
    "    {reflection}\n",
    "    \n",
    "    Rewrite the essay with the feedback incorporated. Return only the refined essay. DO NOT return any additional information.\n",
    "    \"\"\"\n",
    "\n",
    "    # Get a response from the LLM by creating a chat with the client.\n",
    "    response = CLIENT.chat.completions.create(\n",
    "        model=model,\n",
    "        messages=[{\"role\":\"user\", \"content\":prompt}],\n",
    "        temperature=1.0,\n",
    "    )\n",
    "\n",
    "    ### END CODE HERE ###\n",
    "\n",
    "    return response.choices[0].message.content"
   ]
  },
  {
   "cell_type": "code",
   "execution_count": 10,
   "id": "318c3d55",
   "metadata": {
    "deletable": false,
    "editable": false,
    "height": 47
   },
   "outputs": [
    {
     "name": "stdout",
     "output_type": "stream",
     "text": [
      "\u001b[92m All tests passed!\n"
     ]
    }
   ],
   "source": [
    "# Test your code!\n",
    "unittests.test_revise_draft(revise_draft)"
   ]
  },
  {
   "cell_type": "markdown",
   "id": "c8a10d4c",
   "metadata": {},
   "source": [
    "### 🧪 Test the Reflective Writing Workflow\n",
    "\n",
    "Use the functions you implemented to simulate the complete writing workflow:\n",
    "\n",
    "1. **Generate a draft** in response to the essay prompt.\n",
    "2. **Reflect** on the draft to identify improvements.\n",
    "3. **Revise** the draft using the feedback.\n",
    "\n",
    "Observe the outputs of each step. You do **not** need to modify the outputs — just verify that the workflow runs as expected and each component returns a valid string.\n"
   ]
  },
  {
   "cell_type": "code",
   "execution_count": 11,
   "id": "203c734a",
   "metadata": {
    "deletable": false,
    "editable": false,
    "height": 285
   },
   "outputs": [
    {
     "name": "stdout",
     "output_type": "stream",
     "text": [
      "📝 Draft:\n",
      "\n",
      "Title: The Regulation of Social Media Platforms: Necessity or Overreach?\n",
      "\n",
      "In today’s digital era, social media platforms have transformed the way we communicate, express opinions, and consume information. From Facebook and Twitter to Instagram and TikTok, these platforms have grown massively in influence, reshaping social dynamics, politics, and even economies. However, with great influence comes significant responsibility, and the debate on whether government regulation of these platforms is necessary has never been more pertinent. This essay delves into the arguments for and against the regulation of social media by the government, ultimately suggesting that a balanced approach is essential for the well-being of society.\n",
      "\n",
      "Proponents of government regulation argue that social media platforms wield excessive power over public discourse, which can lead to harmful consequences if left unchecked. Firstly, the proliferation of misinformation and fake news is a growing concern. The rapid dissemination of fabricated information can sway elections, incite violence, and undermine democratic processes. Governments have a duty to protect their citizens from such harms by implementing regulations that require social media companies to fact-check content and hold them accountable for the spread of false information.\n",
      "\n",
      "Moreover, the issue of privacy infringement cannot be overlooked. Social media platforms collect vast amounts of personal data from their users, often without explicit consent. This data can be misused or fall into the wrong hands, leading to breaches of privacy and potential exploitation. Government intervention is necessary to enforce strict data protection laws that ensure the privacy and security of individuals' information.\n",
      "\n",
      "On the other hand, critics of government regulation argue that such interference could stifle freedom of speech and innovation. Social media has been instrumental in amplifying marginalized voices and enabling grass-roots movements. Government regulation might lead to censorship, where the definition of what is acceptable becomes increasingly narrow, potentially silencing dissenting voices. The risk of abusing regulatory power to suppress political opposition and control information is a genuine concern in non-democratic regimes.\n",
      "\n",
      "Furthermore, excessive regulation could hinder technological innovation. The rapid pace of technological advancement in social media is largely attributed to minimal governmental interference, which has allowed companies the freedom to explore, experiment, and evolve. Heavy-handed regulation could stifle this innovation, putting a damper on new developments and slowing down the dynamic nature of social media platforms.\n",
      "\n",
      "A nuanced approach to regulation could provide a way forward, ensuring that social media platforms remain a force for good while minimizing their potential for harm. Governments could collaborate with social media companies to develop industry standards and self-regulatory frameworks that promote transparency and accountability without direct interference. Additionally, education campaigns focused on media literacy could empower users to critically assess information and make informed decisions about sharing content.\n",
      "\n",
      "In conclusion, while there is a compelling argument for the government to regulate social media platforms to prevent the spread of misinformation and protect privacy, caution must be exercised to preserve the benefits of free expression and innovation that these platforms offer. A balanced and collaborative approach, where governments, social media companies, and users work together, seems to be the most effective solution in addressing the complex challenges posed by social media in the 21st century. The goal should be to create a digital environment that upholds democratic values while fostering a secure and innovative space for users worldwide.\n",
      "\n",
      "🧠 Feedback:\n",
      "\n",
      "Structure:\n",
      "The essay follows a clear five‐part layout—introduction, two “pro‐regulation” paragraphs, two “anti‐regulation” paragraphs, a synthesis/proposal, and a conclusion—which helps readers track the discussion. To strengthen the structure further, you might:\n",
      "• State your thesis more explicitly in the introduction so readers know up front that you advocate a “balanced approach.”  \n",
      "• Use clear topic sentences at the start of each paragraph to signal whether you’re addressing benefits or risks.  \n",
      "• Consider merging the two “anti‐regulation” paragraphs or ordering them (e.g., freedom of speech first, innovation second) to improve flow and avoid repetition.\n",
      "\n",
      "Clarity:\n",
      "Overall the language is accessible, but some sentences are long or abstract. To enhance clarity:\n",
      "• Break up complex sentences (for example, the privacy infringement sentence could be split into two).  \n",
      "• Replace general phrases like “harmful consequences” with specific examples or scenarios to make your point concrete.  \n",
      "• Define key terms early (“regulation,” “misinformation”) so each reader shares the same understanding.\n",
      "\n",
      "Strength of Argument:\n",
      "You present both sides fairly, but the argument would be stronger with data, case studies, or legal references. For example:\n",
      "• Cite real‐world incidents (e.g., Cambridge Analytica, the EU’s GDPR) to illustrate regulatory impact.  \n",
      "• Specify what kinds of regulation you envision (mandatory fact-checking, transparency reports, fines).  \n",
      "• Anticipate counterarguments against your “self‐regulatory framework” proposal—what if companies under‐report?—and address them briefly.\n",
      "\n",
      "Writing Style:\n",
      "Your tone is formal and appropriately academic, but you can make it more engaging by:\n",
      "• Varying sentence length—intermix short, punchy statements with longer explanatory ones.  \n",
      "• Favoring active voice over passive (e.g., “Regulators must enforce data‐protection laws” rather than “Data‐protection laws must be enforced”).  \n",
      "• Trimming clichés (“with great influence comes responsibility”) in favor of fresh language or precise examples.  \n",
      "• Adding transitional phrases (“Conversely,” “Moreover,” “In contrast”) so the reader clearly sees shifts between pros, cons, and solutions.\n",
      "\n",
      "✍️ Revised:\n",
      "\n",
      "Title: The Regulation of Social Media Platforms: A Balanced Necessity\n",
      "\n",
      "In today’s digital landscape, social media platforms such as Facebook, Twitter, Instagram, and TikTok have revolutionized communication, opinion expression, and information consumption. These platforms wield significant influence over societal norms, political landscapes, and economic trends. This influence brings with it the question of whether government regulation is necessary. This essay argues that a balanced approach—one that cultivates a responsible yet innovative digital environment—is essential for societal well-being.\n",
      "\n",
      "Proponents of regulation assert that unchecked social media power can lead to concrete issues, such as the spread of misinformation. For example, the rapid dissemination of unfounded information can manipulate elections, incite violence, and undermine democratic processes. A pertinent case is the Cambridge Analytica scandal, which highlighted how personal data misuse could distort electoral outcomes. Regulators must enforce mandatory fact-checking to hold social media companies accountable for the accuracy of the content disseminated on their platforms.\n",
      "\n",
      "Another critical issue necessitating regulation is privacy infringement. Social media platforms often collect personal data without explicit user consent, raising severe privacy concerns. For instance, the European Union’s General Data Protection Regulation (GDPR) serves as a benchmark for enforcing strict data protection laws, ensuring that users’ personal information remains secure. Such regulations are necessary to protect individuals from potential exploitation.\n",
      "\n",
      "Conversely, critics caution that government regulation might jeopardize freedom of speech—a core democratic value. Social media has empowered marginalized voices and facilitated grassroots movements. Overzealous regulation could lead to censorship, potentially silencing dissenting views, especially in authoritarian regimes where control over information is a state priority.\n",
      "\n",
      "Moreover, regulation could stifle technological innovation. Social media’s rapid evolution has largely flourished in an environment with minimal governmental interference. Excessive regulation might hinder the exploration and growth of new technological advances, detracting from the dynamic nature of social media platforms.\n",
      "\n",
      "Therefore, a balanced and collaborative regulatory approach becomes paramount. Governments and social media companies should work together to create industry standards and self-regulatory frameworks that encourage transparency. While such frameworks promote accountability, it is essential to anticipate and mitigate risks of under-reporting by companies. Additionally, enhancing media literacy through education campaigns can empower users to critically evaluate information, fostering informed content sharing.\n",
      "\n",
      "In conclusion, while government regulation is necessary to prevent misinformation and protect privacy, it is crucial to approach this regulation thoughtfully, ensuring the preservation of free expression and innovation. A collaborative strategy between governments, social media companies, and users will help address the intricate challenges of social media, aiming to create a digital realm that respects democratic values and fosters innovation.\n"
     ]
    }
   ],
   "source": [
    "essay_prompt = \"Should social media platforms be regulated by the government?\"\n",
    "\n",
    "# Agent 1 – Draft\n",
    "draft = generate_draft(essay_prompt)\n",
    "print(\"📝 Draft:\\n\")\n",
    "print(draft)\n",
    "\n",
    "# Agent 2 – Reflection\n",
    "feedback = reflect_on_draft(draft)\n",
    "print(\"\\n🧠 Feedback:\\n\")\n",
    "print(feedback)\n",
    "\n",
    "# Agent 3 – Revision\n",
    "revised = revise_draft(draft, feedback)\n",
    "print(\"\\n✍️ Revised:\\n\")\n",
    "print(revised)"
   ]
  },
  {
   "cell_type": "markdown",
   "id": "7e3eb897",
   "metadata": {},
   "source": [
    "To better visualize the output of each step in the reflective writing workflow, we use a utility function called `show_output`. This function displays the results of each stage (drafting, reflection, and revision) in styled boxes with custom background and text colors, making it easier to compare and understand the progression of the essay.\n"
   ]
  },
  {
   "cell_type": "code",
   "execution_count": 12,
   "id": "50667ba3",
   "metadata": {
    "deletable": false,
    "editable": false,
    "height": 147
   },
   "outputs": [
    {
     "data": {
      "text/html": [
       "\n",
       "    <div style=\"\n",
       "        border: 1px solid #ccc;\n",
       "        border-radius: 10px;\n",
       "        padding: 15px;\n",
       "        margin-bottom: 15px;\n",
       "        background-color: #fff8dc;\n",
       "        color: #333333;\n",
       "    \">\n",
       "        <h3 style=\"margin-top: 0;\">Step 1 – Draft</h3>\n",
       "        <pre style=\"\n",
       "            white-space: pre-wrap;\n",
       "            font-family: monospace;\n",
       "            font-size: 14px;\n",
       "        \">Title: The Regulation of Social Media Platforms: Necessity or Overreach?\n",
       "\n",
       "In today’s digital era, social media platforms have transformed the way we communicate, express opinions, and consume information. From Facebook and Twitter to Instagram and TikTok, these platforms have grown massively in influence, reshaping social dynamics, politics, and even economies. However, with great influence comes significant responsibility, and the debate on whether government regulation of these platforms is necessary has never been more pertinent. This essay delves into the arguments for and against the regulation of social media by the government, ultimately suggesting that a balanced approach is essential for the well-being of society.\n",
       "\n",
       "Proponents of government regulation argue that social media platforms wield excessive power over public discourse, which can lead to harmful consequences if left unchecked. Firstly, the proliferation of misinformation and fake news is a growing concern. The rapid dissemination of fabricated information can sway elections, incite violence, and undermine democratic processes. Governments have a duty to protect their citizens from such harms by implementing regulations that require social media companies to fact-check content and hold them accountable for the spread of false information.\n",
       "\n",
       "Moreover, the issue of privacy infringement cannot be overlooked. Social media platforms collect vast amounts of personal data from their users, often without explicit consent. This data can be misused or fall into the wrong hands, leading to breaches of privacy and potential exploitation. Government intervention is necessary to enforce strict data protection laws that ensure the privacy and security of individuals' information.\n",
       "\n",
       "On the other hand, critics of government regulation argue that such interference could stifle freedom of speech and innovation. Social media has been instrumental in amplifying marginalized voices and enabling grass-roots movements. Government regulation might lead to censorship, where the definition of what is acceptable becomes increasingly narrow, potentially silencing dissenting voices. The risk of abusing regulatory power to suppress political opposition and control information is a genuine concern in non-democratic regimes.\n",
       "\n",
       "Furthermore, excessive regulation could hinder technological innovation. The rapid pace of technological advancement in social media is largely attributed to minimal governmental interference, which has allowed companies the freedom to explore, experiment, and evolve. Heavy-handed regulation could stifle this innovation, putting a damper on new developments and slowing down the dynamic nature of social media platforms.\n",
       "\n",
       "A nuanced approach to regulation could provide a way forward, ensuring that social media platforms remain a force for good while minimizing their potential for harm. Governments could collaborate with social media companies to develop industry standards and self-regulatory frameworks that promote transparency and accountability without direct interference. Additionally, education campaigns focused on media literacy could empower users to critically assess information and make informed decisions about sharing content.\n",
       "\n",
       "In conclusion, while there is a compelling argument for the government to regulate social media platforms to prevent the spread of misinformation and protect privacy, caution must be exercised to preserve the benefits of free expression and innovation that these platforms offer. A balanced and collaborative approach, where governments, social media companies, and users work together, seems to be the most effective solution in addressing the complex challenges posed by social media in the 21st century. The goal should be to create a digital environment that upholds democratic values while fostering a secure and innovative space for users worldwide.</pre>\n",
       "    </div>\n",
       "    "
      ],
      "text/plain": [
       "<IPython.core.display.HTML object>"
      ]
     },
     "metadata": {},
     "output_type": "display_data"
    },
    {
     "data": {
      "text/html": [
       "\n",
       "    <div style=\"\n",
       "        border: 1px solid #ccc;\n",
       "        border-radius: 10px;\n",
       "        padding: 15px;\n",
       "        margin-bottom: 15px;\n",
       "        background-color: #e0f7fa;\n",
       "        color: #222222;\n",
       "    \">\n",
       "        <h3 style=\"margin-top: 0;\">Step 2 – Reflection</h3>\n",
       "        <pre style=\"\n",
       "            white-space: pre-wrap;\n",
       "            font-family: monospace;\n",
       "            font-size: 14px;\n",
       "        \">Structure:\n",
       "The essay follows a clear five‐part layout—introduction, two “pro‐regulation” paragraphs, two “anti‐regulation” paragraphs, a synthesis/proposal, and a conclusion—which helps readers track the discussion. To strengthen the structure further, you might:\n",
       "• State your thesis more explicitly in the introduction so readers know up front that you advocate a “balanced approach.”  \n",
       "• Use clear topic sentences at the start of each paragraph to signal whether you’re addressing benefits or risks.  \n",
       "• Consider merging the two “anti‐regulation” paragraphs or ordering them (e.g., freedom of speech first, innovation second) to improve flow and avoid repetition.\n",
       "\n",
       "Clarity:\n",
       "Overall the language is accessible, but some sentences are long or abstract. To enhance clarity:\n",
       "• Break up complex sentences (for example, the privacy infringement sentence could be split into two).  \n",
       "• Replace general phrases like “harmful consequences” with specific examples or scenarios to make your point concrete.  \n",
       "• Define key terms early (“regulation,” “misinformation”) so each reader shares the same understanding.\n",
       "\n",
       "Strength of Argument:\n",
       "You present both sides fairly, but the argument would be stronger with data, case studies, or legal references. For example:\n",
       "• Cite real‐world incidents (e.g., Cambridge Analytica, the EU’s GDPR) to illustrate regulatory impact.  \n",
       "• Specify what kinds of regulation you envision (mandatory fact-checking, transparency reports, fines).  \n",
       "• Anticipate counterarguments against your “self‐regulatory framework” proposal—what if companies under‐report?—and address them briefly.\n",
       "\n",
       "Writing Style:\n",
       "Your tone is formal and appropriately academic, but you can make it more engaging by:\n",
       "• Varying sentence length—intermix short, punchy statements with longer explanatory ones.  \n",
       "• Favoring active voice over passive (e.g., “Regulators must enforce data‐protection laws” rather than “Data‐protection laws must be enforced”).  \n",
       "• Trimming clichés (“with great influence comes responsibility”) in favor of fresh language or precise examples.  \n",
       "• Adding transitional phrases (“Conversely,” “Moreover,” “In contrast”) so the reader clearly sees shifts between pros, cons, and solutions.</pre>\n",
       "    </div>\n",
       "    "
      ],
      "text/plain": [
       "<IPython.core.display.HTML object>"
      ]
     },
     "metadata": {},
     "output_type": "display_data"
    },
    {
     "data": {
      "text/html": [
       "\n",
       "    <div style=\"\n",
       "        border: 1px solid #ccc;\n",
       "        border-radius: 10px;\n",
       "        padding: 15px;\n",
       "        margin-bottom: 15px;\n",
       "        background-color: #f3e5f5;\n",
       "        color: #222222;\n",
       "    \">\n",
       "        <h3 style=\"margin-top: 0;\">Step 3 – Revision</h3>\n",
       "        <pre style=\"\n",
       "            white-space: pre-wrap;\n",
       "            font-family: monospace;\n",
       "            font-size: 14px;\n",
       "        \">Title: The Regulation of Social Media Platforms: A Balanced Necessity\n",
       "\n",
       "In today’s digital landscape, social media platforms such as Facebook, Twitter, Instagram, and TikTok have revolutionized communication, opinion expression, and information consumption. These platforms wield significant influence over societal norms, political landscapes, and economic trends. This influence brings with it the question of whether government regulation is necessary. This essay argues that a balanced approach—one that cultivates a responsible yet innovative digital environment—is essential for societal well-being.\n",
       "\n",
       "Proponents of regulation assert that unchecked social media power can lead to concrete issues, such as the spread of misinformation. For example, the rapid dissemination of unfounded information can manipulate elections, incite violence, and undermine democratic processes. A pertinent case is the Cambridge Analytica scandal, which highlighted how personal data misuse could distort electoral outcomes. Regulators must enforce mandatory fact-checking to hold social media companies accountable for the accuracy of the content disseminated on their platforms.\n",
       "\n",
       "Another critical issue necessitating regulation is privacy infringement. Social media platforms often collect personal data without explicit user consent, raising severe privacy concerns. For instance, the European Union’s General Data Protection Regulation (GDPR) serves as a benchmark for enforcing strict data protection laws, ensuring that users’ personal information remains secure. Such regulations are necessary to protect individuals from potential exploitation.\n",
       "\n",
       "Conversely, critics caution that government regulation might jeopardize freedom of speech—a core democratic value. Social media has empowered marginalized voices and facilitated grassroots movements. Overzealous regulation could lead to censorship, potentially silencing dissenting views, especially in authoritarian regimes where control over information is a state priority.\n",
       "\n",
       "Moreover, regulation could stifle technological innovation. Social media’s rapid evolution has largely flourished in an environment with minimal governmental interference. Excessive regulation might hinder the exploration and growth of new technological advances, detracting from the dynamic nature of social media platforms.\n",
       "\n",
       "Therefore, a balanced and collaborative regulatory approach becomes paramount. Governments and social media companies should work together to create industry standards and self-regulatory frameworks that encourage transparency. While such frameworks promote accountability, it is essential to anticipate and mitigate risks of under-reporting by companies. Additionally, enhancing media literacy through education campaigns can empower users to critically evaluate information, fostering informed content sharing.\n",
       "\n",
       "In conclusion, while government regulation is necessary to prevent misinformation and protect privacy, it is crucial to approach this regulation thoughtfully, ensuring the preservation of free expression and innovation. A collaborative strategy between governments, social media companies, and users will help address the intricate challenges of social media, aiming to create a digital realm that respects democratic values and fosters innovation.</pre>\n",
       "    </div>\n",
       "    "
      ],
      "text/plain": [
       "<IPython.core.display.HTML object>"
      ]
     },
     "metadata": {},
     "output_type": "display_data"
    }
   ],
   "source": [
    "from utils import show_output\n",
    "\n",
    "essay_prompt = \"Should social media platforms be regulated by the government?\"\n",
    "\n",
    "show_output(\"Step 1 – Draft\", draft, background=\"#fff8dc\", text_color=\"#333333\")\n",
    "show_output(\"Step 2 – Reflection\", feedback, background=\"#e0f7fa\", text_color=\"#222222\")\n",
    "show_output(\"Step 3 – Revision\", revised, background=\"#f3e5f5\", text_color=\"#222222\")"
   ]
  },
  {
   "cell_type": "markdown",
   "id": "367973f7",
   "metadata": {},
   "source": [
    "## Check grading feedback\n",
    "\n",
    "If you have collapsed the right panel to have more screen space for your code, as shown below:\n",
    "\n",
    "<img src=\"./images/collapsed.png\" alt=\"Collapsed Image\" width=\"800\" height=\"400\"/>\n",
    "\n",
    "You can click on the left-facing arrow button (highlighted in red) to view feedback for your submission after submitting it for grading. Once expanded, it should display like this:\n",
    "\n",
    "<img src=\"./images/expanded.png\" alt=\"Expanded Image\" width=\"800\" height=\"400\"/>"
   ]
  }
 ],
 "metadata": {
  "grader_version": "1",
  "kernelspec": {
   "display_name": "Python 3 (ipykernel)",
   "language": "python",
   "name": "python3"
  },
  "language_info": {
   "codemirror_mode": {
    "name": "ipython",
    "version": 3
   },
   "file_extension": ".py",
   "mimetype": "text/x-python",
   "name": "python",
   "nbconvert_exporter": "python",
   "pygments_lexer": "ipython3",
   "version": "3.11.9"
  }
 },
 "nbformat": 4,
 "nbformat_minor": 5
}
